{
  "nbformat": 4,
  "nbformat_minor": 0,
  "metadata": {
    "colab": {
      "name": "CelebrityMachineLearning.ipynb",
      "provenance": [],
      "authorship_tag": "ABX9TyOfG7DzrpyN38JDTE6Tt2IM",
      "include_colab_link": true
    },
    "kernelspec": {
      "name": "python3",
      "display_name": "Python 3"
    }
  },
  "cells": [
    {
      "cell_type": "markdown",
      "metadata": {
        "id": "view-in-github",
        "colab_type": "text"
      },
      "source": [
        "<a href=\"https://colab.research.google.com/github/shivang1234gupta/CelebrityProfiling/blob/master/CelebrityMachineLearning.ipynb\" target=\"_parent\"><img src=\"https://colab.research.google.com/assets/colab-badge.svg\" alt=\"Open In Colab\"/></a>"
      ]
    },
    {
      "cell_type": "code",
      "metadata": {
        "id": "EHbCgRJ3wcL1",
        "colab_type": "code",
        "colab": {}
      },
      "source": [
        "from google.colab import drive"
      ],
      "execution_count": 1,
      "outputs": []
    },
    {
      "cell_type": "code",
      "metadata": {
        "id": "ldvF2lBLwpAQ",
        "colab_type": "code",
        "colab": {
          "base_uri": "https://localhost:8080/",
          "height": 121
        },
        "outputId": "44d223ad-48c3-4784-9630-3dceaf301e9b"
      },
      "source": [
        "drive.mount('/content/drive')"
      ],
      "execution_count": 2,
      "outputs": [
        {
          "output_type": "stream",
          "text": [
            "Go to this URL in a browser: https://accounts.google.com/o/oauth2/auth?client_id=947318989803-6bn6qk8qdgf4n4g3pfee6491hc0brc4i.apps.googleusercontent.com&redirect_uri=urn%3aietf%3awg%3aoauth%3a2.0%3aoob&scope=email%20https%3a%2f%2fwww.googleapis.com%2fauth%2fdocs.test%20https%3a%2f%2fwww.googleapis.com%2fauth%2fdrive%20https%3a%2f%2fwww.googleapis.com%2fauth%2fdrive.photos.readonly%20https%3a%2f%2fwww.googleapis.com%2fauth%2fpeopleapi.readonly&response_type=code\n",
            "\n",
            "Enter your authorization code:\n",
            "··········\n",
            "Mounted at /content/drive\n"
          ],
          "name": "stdout"
        }
      ]
    },
    {
      "cell_type": "markdown",
      "metadata": {
        "id": "BtVfJPPPtQm0",
        "colab_type": "text"
      },
      "source": [
        "**Preprocessing the data**"
      ]
    },
    {
      "cell_type": "code",
      "metadata": {
        "id": "LlSgCCfRMmCL",
        "colab_type": "code",
        "colab": {}
      },
      "source": [
        "import pandas as pd\n",
        "df=pd.read_csv('drive/My Drive/Random/Dataset.csv')\n",
        "y=pd.read_csv('drive/My Drive/Random/Output.csv')"
      ],
      "execution_count": 3,
      "outputs": []
    },
    {
      "cell_type": "code",
      "metadata": {
        "id": "Y0vx7EjrOQs1",
        "colab_type": "code",
        "colab": {
          "base_uri": "https://localhost:8080/",
          "height": 205
        },
        "outputId": "70dcebd5-94c3-43cf-8c26-1b6ddacddf2a"
      },
      "source": [
        "!pip install git+https://github.com/laxmimerit/preprocess_kgptalkie.git\n",
        "import preprocess_kgptalkie as ps"
      ],
      "execution_count": 4,
      "outputs": [
        {
          "output_type": "stream",
          "text": [
            "Collecting git+https://github.com/laxmimerit/preprocess_kgptalkie.git\n",
            "  Cloning https://github.com/laxmimerit/preprocess_kgptalkie.git to /tmp/pip-req-build-g779fthj\n",
            "  Running command git clone -q https://github.com/laxmimerit/preprocess_kgptalkie.git /tmp/pip-req-build-g779fthj\n",
            "Building wheels for collected packages: preprocess-kgptalkie\n",
            "  Building wheel for preprocess-kgptalkie (setup.py) ... \u001b[?25l\u001b[?25hdone\n",
            "  Created wheel for preprocess-kgptalkie: filename=preprocess_kgptalkie-0.0.5-cp36-none-any.whl size=4517 sha256=b50171fe455ff48d8e95cc319117080dc45cfe29d3939b9b5f47e6f653c494ae\n",
            "  Stored in directory: /tmp/pip-ephem-wheel-cache-t0sy4gu9/wheels/a8/18/22/90afa4bd43247fb9a75b710a4a3fcd94966c022ce9e3c7d0a6\n",
            "Successfully built preprocess-kgptalkie\n",
            "Installing collected packages: preprocess-kgptalkie\n",
            "Successfully installed preprocess-kgptalkie-0.0.5\n"
          ],
          "name": "stdout"
        }
      ]
    },
    {
      "cell_type": "code",
      "metadata": {
        "id": "T07H5BGcM03L",
        "colab_type": "code",
        "colab": {}
      },
      "source": [
        "df['tweet'] = df['tweet'].apply(lambda x: str(x).lower())\n",
        "df['tweet'] = df['tweet'].apply(lambda x: ps.cont_exp(x))\n",
        "\n",
        "df['tweet'] = df['tweet'].apply(lambda x: ps.remove_special_chars(x))\n",
        "df['tweet'] = df['tweet'].apply(lambda x: ps.remove_accented_chars(x))"
      ],
      "execution_count": 5,
      "outputs": []
    },
    {
      "cell_type": "code",
      "metadata": {
        "id": "776uASg2NDgU",
        "colab_type": "code",
        "colab": {}
      },
      "source": [
        "df['tweet'] = df['tweet'].apply(lambda x: ps.remove_html_tags(x))\n"
      ],
      "execution_count": 6,
      "outputs": []
    },
    {
      "cell_type": "code",
      "metadata": {
        "id": "GxW6HKkS58dy",
        "colab_type": "code",
        "colab": {}
      },
      "source": [
        "df['tweet'] = df['tweet'].apply(lambda x: ps.remove_urls(x))"
      ],
      "execution_count": 7,
      "outputs": []
    },
    {
      "cell_type": "code",
      "metadata": {
        "id": "LajDdsEVBnka",
        "colab_type": "code",
        "colab": {
          "base_uri": "https://localhost:8080/",
          "height": 67
        },
        "outputId": "ccafde4f-e8ec-4df3-b82f-057422c4add4"
      },
      "source": [
        "import nltk\n",
        "nltk.download('punkt')"
      ],
      "execution_count": 8,
      "outputs": [
        {
          "output_type": "stream",
          "text": [
            "[nltk_data] Downloading package punkt to /root/nltk_data...\n",
            "[nltk_data]   Unzipping tokenizers/punkt.zip.\n"
          ],
          "name": "stdout"
        },
        {
          "output_type": "execute_result",
          "data": {
            "text/plain": [
              "True"
            ]
          },
          "metadata": {
            "tags": []
          },
          "execution_count": 8
        }
      ]
    },
    {
      "cell_type": "code",
      "metadata": {
        "id": "quv39VRVe7fE",
        "colab_type": "code",
        "colab": {}
      },
      "source": [
        "df['tweet'] = df['tweet'].apply(lambda x: ps.spelling_correction(x))"
      ],
      "execution_count": null,
      "outputs": []
    },
    {
      "cell_type": "code",
      "metadata": {
        "id": "JzQj46Wf6e7S",
        "colab_type": "code",
        "colab": {
          "base_uri": "https://localhost:8080/",
          "height": 137
        },
        "outputId": "3175ee25-63e3-46c7-d0e4-2d67e3c26c36"
      },
      "source": [
        "df['tweet'][1]"
      ],
      "execution_count": 12,
      "outputs": [
        {
          "output_type": "execute_result",
          "data": {
            "application/vnd.google.colaboratory.intrinsic+json": {
              "type": "string"
            },
            "text/plain": [
              "'not too much drama but its still drama kickin off tutorialtuesday with my chillowt look excited to show ya some of my own tips for the new fentybeauty holiday collection out now peep the full vid at httpstco8lxyfjz7pf httpstcosasdfqnqo2 join tidal and my rocnation fam in their efforts to reform criminal justice with their annual tidalxbrooklyn benefit concert on 1023 get your tix learn more about the cause and donate at httpstco4ure4l722w httpstcoue4ets1bvx chillowt is out now i created this icy hot holiday collection to make sure you look all winter long i love using the killawattfoilpalette on my eyes cheeks its versatile af get it at fentybeauty sephora harveynichols and sephorainjcp httpstcoqw885ko2vs httpstcodm4jmvzp5x good morning americai dont care what responsibilities you have today theres no greater responsibility than being in control of your future and it starts now register to vote today at httpstcok42tb6cviz triple check that you are properly registered lets go httpstcoi0tnwsjd9e fentybeauty has made it to the time 50 genius companies again im so grateful all the glory and honor belongs to god great teamwork from my lvmh kendo fentybeauty family special thanks to our customers we couldnt do this without you httpstcomd81mhb55w pull up to the holidays all iced owwwt so excited to drop this years holiday collection chillowt on oct 12th whos ready fentybeauty httpstcoufwoorwofu i feel attacked valley girl whos never been attacked voice r9 chronicles httpstco68lvkj7obz also httpstcocfffala4ap fentybeauty sephoraaus httpstco6qixoy6frv australia was an absolute dream its been way too long finally made it back and the love was real thank you aussinavy na very special thank you to sephoraaus for supporting fentybeauty in such a big way httpstcoaxu2glku4h excited to share a sneak peek of my fentybeauty chillowt holiday collection with australia today see you at pitt st in sydney tonight sephoraaus httpstcow0af3ir50q when fentybeauty is the secret weapon httpstcoeyaqac5lyh singapore you were a dream tonight thank you fbanniversarytour stunnaweek fentybeauty sephorasg httpstcoihtxdhqyic stunnaweek am not over meet uninvitedxa0i had to make sure we have one smooth rich and black stunna that is perfect for all skin tones its available online at fentybeauty sephora harveynichols and sephorainjcp at 11am est showupuninvited httpstcono3nz1zxw7 httpstcoaakwhtojpc helloooooo unbutton the latest stunna nude shade i spent a whole year developing the perfect peachy nude xa0one stroke and itll last all night get it online now at httpstcono3nz1r8nf fentybeauty sephora harveynichols and sephorainjcp and in stores oct 1st httpstcokg1eob4vq2 sept 29 im coming to dubai for my 1st ever fentybeauty artistry beauty talk grab your tix now at httpstcojiytyvyefs this event benefits dubaicares an organization which works wun aid agencies international ngos to fund education programs in developing countries ya ready for more nudes welcome uncuffed to the stunna lip paint fam out now get yours online only at fentybeauty sephora harveynichols and sephorainjcp httpstcotecs8n2nk8 yall been wanting more shades so guess what its stunnaweek introducing a new shade to the stunna family unveil this rich chocolate brown looks bomb on everybody its out now online only at httpstcoqw885kfek2 fentybeauty sephora harveynichols sephorainjcp httpstcom23ablmpdd kia ora jacindaardern it is been a big year for you congrats how could it get even better join gcmandela100 pledge new funds to gpforeducation i hope you mfatgovtnz agree that educating every child can change the world claralionelfdn httpstcopqsqivfgmu juhasipila i was hoping to see finland at the gpforeducation financing conference in senegal in feb but theres still time to join gcmandela100 hope to hear you go and pledge new from fingovernment kiitos claralionelfdn httpstcopqsqivfgmu konnichiwa abeshinzo konotarogomame konotaromp i love that japan committed 180m to girls education g7nwill you allocate new funds from that commitment to gpforeducation gcmandela100  claralionelfdn httpstcopqsqivfgmu hellooo bmz_bund minister muller regsprecher chancellor merkel im thrilled to see is prioritizing education will you increase your gpforeducation pledge to 50m per year gcmandela100 please help us keep it up danke claralionelfdn httpstcopqsqivfgmu allurebestofbeauty breakthrough award to fentybeauty thank you to the beauty bible for this honor nwearing diamondballout on my eyes with diamondmilk gloss bomb on top allure_magazine httpstcottqoj8tevv allure_magazine allurebestofbeauty nhttpstcopbr5e6qt4h httpstcobjzhifelt9 excited to reveal my cover of this months allure_magazine to celebrate fentybeautys allurebestofbeauty breakthrough award winnnphotographer nadine ijewerenstylist illjahjah nhair yusefhairnyc nmakeup priscillaono nmanicure maria salandra nhttpstcopbr5e6qt4h httpstcodlr3h1symt love love love this leopard lace it comes in 3 other colors toonsavagexfenty savagexfw18 out now directed by philippa price httpstcorvz0qyo70p still on a high from the savagexfenty show what pieces are your favz from the savagexfw18 collection cant wait to see yall serving tag me httpstcoi4tonpfoqc have you shopped the new savagexfenty drop sis stop by httpstcoh2tzqkqjdh or pull up to the ny savagexpopup open today at 577 broadway new york ny iamsavage httpstcorifdvnpzlb aye just dropped da new savagexfenty fw 18 collection check out all the styles featured in the savagexfw18 show tonight and be the first to get yours now httpstcoreswcgsg1k httpstcolrsodstj4w its about to go down enter the world of savagexfenty at 730pm est tonight we goin liiiiive on my youtube httpstco8u6ren69go then you can shop the new savagexfw18 collection after the livestream at httpstcoreswcgsg1k httpstco4evehchtn9 ready for da show tonight make sure ya tunein at 730pm est to enter the world of savagexfenty live on httpstco8u6ren69go cant wait for you to see all the looooks youtube httpstcodkzxfzft9h tomorrow sept 12 730pm est savagexfenty is going live on youtube watch at httpstcoaeshaouapj and get ready to shop the collection after the show at httpstcolgcskwh3pg and harveynichols nthe nyc savagexpopup opens sept 13th with more cities coming soon httpstcosndr9tc4z1 fentybeauty happy birthday httpstcoqt43p3hpru 1 year ago fentybeauty was born httpstcoq0fzn9v9hv come celebrate our 1st birthday fentybeauty at midnight est our special diamondbomb and diamondmilk will be available for everyone at midnight est tonight on httpstcogr3opnubfc and sephora harveynichols sephorainjcp httpstcozwequglquj garage_magazine by deanalawson httpstconhphmyo7dw by deanalawson for garage_magazine thehumanfuture is out thursday httpstcohwhbrlce3q httpstcofsp17r0tm3 out sept 6th garage_magazine issue 15 nnphotographed by artist deana lawson nstyled by carlos nazarionhair by yusefhairnycnmakeup by lisa_eldridge using fentybeautynnails by jennylongworthnset design by david whitenproduction by holmes production httpstcojrnpbnofpx doyaluhmetoo httpstcoswsqecahrx hi sigridkaag markrutte minpres i know that the netherlands wanted to pledge to support global education back in february so i would love if you joined me now will you provide 100m to gpforeducation on sept 29 at the glblctzn fest dank je claralionelfdn so excited to announce that my sis issarae is hosting this years diamondball in exactly one month and donaldglover is closing out the night with a special performance sept 13 nyc find out how you can attend at httpstco29xpvn9ke8 claralionelfdn httpstco8tccsgjzwj its finally time my special edition claralionelfdn fentybeauty diamondballout highlighter is out now 100 of sales go completely to clf pick it up exclusively at httpstcogr3opnubfc and you could win a trip to my diamondball full deets at httpstco29xpvn9ke8 httpstcocyim5r6dzo rt britishvogue rihanna covers the september issue of british vogue styled by edward_enninful shot by showstudios nick knight ht september issue britishvogue ni finally got to work with nick knight for the first time legend edward_enninful get yours on aug 3 httpstcoaw2dacru93 september issue britishvogue nim so honored to be on the cover of your first september issue with british vogue edward_enninful thank you for considering me httpstcour3ulwoixf sept issue of britishvogue on newsstands aug 3nstyled by edward_enninful nshot by nick knightnwearing prada savagexfentynhair by yusefhairnycnmakeup by isamaya french using fentybeautynfloral artistry by azumamakotonnails by jennylongworthnset design by andrew tomlinson httpstco9ofeforhwy how gorgeous is duckie_thot in her diamondballout killawatt hands down the craziest silver ive ever seen its magical in person if you cant tell im super proud cause we took our time to develop this to highest quality possible aug1 fentybeauty httpstcogr3opnubfc httpstcou8lhb5mqzz 2 dayz til diamondballout on wednesday wearable as a highlighter and eyeshadow plus 100 of sales go to charity through the claralionelfdn get it aug 1st only on httpstcogr3opnubfc fentybeauty httpstco2fuithgqml im so excited to announce this special edition claralionelfdn x fentybeauty diamondballout killawatt highlighter of sales goes to clf to support education health emergency programs worldwide get yours exclusively at httpstcousxika7iom on aug 1st httpstcobjbnnvjjem new savagexfenty is out now check my girl marzlovejoy straight killin in her ucute set head to httpstcoh2tzqk97oh to shop all the new goodies we just dropped httpstco0inxoszhle rt pharrell nerdarmy lemon nominated for bestcollaboration and bestediting thank you mtv vmas for the nominations and a big cong ready to lounge in the new basics coming tomorrow xtrasavage members get exclusive access to shop first savagexfenty httpstco6kmbcf0dlz tia jonsson drippin in cotton candy dusty peach from ucute 3 dayz left til you can get dat new savagexfenty httpstco9hfd6ejf0t 4 dayz peepz check my girl eloisa rockin the ucute bralette in cold highlighter follow my savagexfenty page for more info httpstcobavs2ph5el tbt to good times at londons savagexfentypopup get ready for new drops at httpstcoh2tzqk97oh july 18th savagexfenty httpstco6mcqyaahcw the gangs all here spice up your fall with the moroccanspicepalette flyliner and profiltreyeprimer now available at fentybeauty sephora harveynichols and sephorainjcp httpstcono3nz1r8nf httpstcogab0pumy6t wearing saffron from moroccanspicepalette fentybeauty httpstcoabrptlqp4a been working on the perfect liquid eyeliner thats easy for everyone to use and flexible enough for all eyeliner styles cant wait for yall to try it in 2 dayz flyliner fentybeauty httpstcos2sf4l8jkd 3 more dayz the allover eyeshadow brush and tapered blending brush also drop july 6th fentybeauty moroccanspice httpstco0vgvc1s2s5 uk were coming for ya the fentybeautypopup is coming to london glasgow nottingham and belfast london starts this thursday july 5th where you can be the first in the uk to shop the new moroccanspice collection fentybeauty harveynichols httpstcoaphxahcuhh serving spice yall ready for july 6th moroccanspicepalette fentybeauty slickwoods httpstcosvmdcbkb7t spicy af nless than a week before moroccanspice palette flyliner and profiltreyeprimer hit the streets fentybeauty httpstcoadtaljliiy moroccanspicepalette and flyliner liquid eyeliner and more less than a week away fentybeauty sephora httpstcopcx3xuewig too much flavor moroccanspice and flyliner drop july 6th but if youre in ny you can get them at the fentybeautypopup now fentybeauty httpstcoxxiq3woa1j 10 dayz til you can get some moroccanspice the eyeshadow palette is out next fri july 6th fentybeauty httpstco2qx148phcv flyliner fentybeauty july 6th httpstcowjlbv26dqw moroccanspice palette flyliner liquid eyeliner profiltreyeprimer july 6th fentybeauty httpstcolrvldup3sc moroccanspice eyeshadow palette flyliner liquid eyeliner and more coming july 6th fentybeauty httpstcotrnu09qytx introducing the brand new moroccanspice palette fentybeauty coming july 6th httpstcowpn9beznx6 its time to spice things up july 6th coming to fentybeauty sephora harveynichols and sephorainjcp httpstcodtsl5wl9cw oceans8 is now playing in the uk hope yall laugh as hard as i did grab yo tix and lemme know how you like it oceans8movie httpstcotrlq3kkofu httpstcoccguozvfos is restocked where my savages at go peep the latest savagexfenty httpstcog1kvbckxlw drip drip the new fentyxpuma surfslides are out now httpstcopta1gki68y httpstcopskqfft9cr tried to tell yall bout the god i serve wont he do it thoncongrats to all the ladies and the entire team that was a part of this project this makes me so happy and proud to be a woman shout out to the amazing gary ross oceans8 oceans8movie in theaters now httpstconj1z7p3thn london savagexfenty will be poppinup in shoreditch for 5dayz next week june 1317 save them datez and grab your friends issa savagexpopup httpstcobtukwtnm7g oceans8 in theaters tonight ayyyyeee oceans8movie httpstconx68da8gmj profiltr is back in stock worldwide thanks to my ladies for waiting while we restocked your support from the day we launched our foundation has exceeded my expectationsxa0im so gratefulxa0get it now fentybeauty sephora harveynichols and sephorainjcp httpstcoqw885ko2vs httpstco9klkju1k3m oceans8movie june 8 9ball httpstco9rsso7qbhz oceans8movie is in theaters next friday im watching for the first time in ny hashtag and rep your city httpstcoqgh9y8zagx oceans8movie june 8 httpstcohtzqt2w66r i swear time flies when we were filming this 2018 seemed so far away and we couldnt wait for this movie to come out cant believe its coming out likenow oceans8movie will finally be in theaters on june 8th get your tix at httpstcoddyf0wdrnk now oceans8 httpstcomhvubsqujd rt oceans8movie game on tickets are now on sale oceans8 in theaters june 8 httpstcoow6hxvdtmb httpstcoc2e4b8nm3t issa beachplease party nkillawattfoils summerdaze and summernights are available now at fentybeauty sephora harveynichols and sephorainjcp httpstcoqw885ko2vs httpstco9god11utfj huan in the new fentybeauty killawattfoils and summerdaze lip luminizers get yours at httpstcoqw885ko2vs at midnight et tonight httpstcojexmbn23wl check out my home girl duckie_thot in the limited edition fentybeauty eye shimmers islandbling only 2 more days httpstcolxllejrrj8 ready for monday the whole beachplease collection with killawattfoils lip luminizers and eye shimmers drops in 3 days fentybeauty httpstcoeiy9e6bj5h 3 new killawatts are joining the fentybeauty family killawattfoils drop on may 21 httpstcomm1rnijmze 5 dayz killawattfoils lip luminizers fentybeauty all summer fentybeauty may 21 httpstconqnhnwcnvn got 3 new shades of killawattfoils droppin in 6 days may 21st fentybeauty httpstcoajqczkldnm more heat for the summer must have lip luminizers in 2 sets summerdaze and summernights full beachplease collection on may 21st fentybeauty harveynichols sephora and sephorainjcp httpstcocx2lhujrku full beachplease summer collection coming on may 21st killawattfoils and limited edition lip luminizers and eye shimmers at fentybeauty sephora harveynichols and sephorainjcp httpstcojozl4q2ime isnt she gorgeous nnew killawattfoil in shadennmimosa sunrisesangria sunsetnfentybeauty httpstcoyfslhymsfa if youve never seen the trials of darryl hunt please do yourself that favor i know yall been ready for more of the beachplease collection new drip on may 21st fentybeauty httpstcombgbtwzbiw savagexfenty lingerie is now available worldwide treat yourself or a special someone to a little something something onthereg ucute damn and blackwidow at httpstcoh2tzqkqjdh httpstcoq0lfzciave savagexfenty drops worldwide at midnight 1201 am est tonight at httpstcoh2tzqkqjdh httpstcoxjy3zvscqv 2 dayz til savagexfenty httpstcoskxwwas06d 2 dayz til savagexfenty launches worldwide head over to httpstcoh2tzqkqjdh to countdown with me httpstcod207ng1wlm 4 dayz sis damn savagexfenty httpstcoxpot0mqhbt damn savagexfenty drops in five dayz may112018 httpstcolupqs0crxt sup bra 6 more days til savagexfenty category damn httpstcoopw0klaqra one week til were all in savagex keepin it cozy in my onthereg tshirt bra savagexfenty may112018 httpstcob6odl9gia8 rt fentybeauty full video here httpstcojg8fgrhdob cia aint got nun on yall tbh httpstcoqp840wan5k read my cover story at httpstcoqnbfqf9wkl voguemagazine httpstcoxwooeaa0vx so honored to cover voguemagazines june issue httpstcoqnbfqf9wkl httpstcov9sqrktpyh 9 dayz left shout out to my girl jazzelle for keepin it raw n real always category damn savagexfenty httpstcop31hj0zhts 10 days til savagexfenty drops on httpstcoh2tzqk97oh say hello to sweet stella killin it in the category ucute httpstcoaztjd3tnhw leomie killin it in category damn savagexfenty 10 days httpstco71x6kgguah my girl lulu rocking her savagexfenty in category onthereg n11 dayz left til savagex drops httpstcomuqjoivrzx savages come in all shapes and sizes ya ready savagexfenty may112018 httpstcowsomcmemzm get ready may112018 savagexfenty httpstco6d3zbkwxag cant wait for you to see whats coming may 11 at 1201 am est keep up at httpstcofxnz4q2a1r savagexfenty httpstcoccslbgjlnu loading may112018 savagexfenty httpstcovj3xbc1ecf u better lace up savagexfenty drops worldwide on may112018 httpstcocoebqysjxk bet ya didnt know its nationallingerieday got a lil treat for my ladies savagexfenty is coming to you worldwide on may 11th exclusively on httpstcoh2tzqk97oh head there now to peep the live countdown httpstcolqhdio8nrk savagex is coming savagexfenty httpstcoenh031wxlt we bout to light this up sis introducing savagexfenty lingerie coming soon sign up now at httpstcoh2tzqk97oh httpstcouqbffoqymk rt time adele on rihanna she makes her own rules and bends ours time100 httpstcovq9sgs8xzc x httpstco0xokqlqnqx didnt they tell u httpstco0rgby1i2ab im so happy to announce that fentybeauty is coming to saudi arabia on april 19th sephoramiddleeast httpstcopoq2z5wo3o beachplease collection is out now fentybeauty bodylava custom kabukibrush fairybomb get brownsugar body lava exclusively at httpstcousxik9phqc httpstco1uj3qmdbdm beachplease nnwe only 2 days away from bodylava domination wait until you smell how delicious this is nfentybeauty april 6 httpstcoadlfhdafan ladiesssi cant believe its only 3 days away fairybomb and bodylava fentybeauty april 6th httpstcogg0rq7zijc this friday ya ready for bodylava and fairybomb cause theyre almost heeeere fentybeauty httpstcomxh7xxvbfe im grateful for this honor thank you god and thank you to my fans and supporters for holding me down and propelling me forward throughout the yearsnriaa thank you for always acknowledging us music peeps one love always rt riaa httpstcohw0ylx4dag httpstcoeof6qj4mx1 my sis duckie_thot showing em how its done we drop the bodylava and fairybomb on april 6 fentybeauty httpstcopm6ncephgg httpstcox8epegjtgs 8 days til my bodylava fairybomb are yours drops april 6th at fentybeauty sephora harveynichols and sephorainjcp httpstco0mgnfqupri who ready for dat 2018 glow up nfairybomb glittering pom pom and bodylava luminizer is out next friday april 6th fentybeauty httpstcoifukwykmvj summer came early with my beachplease collection fentybeauty bodylava luminizer fairybomb glittering pom pom coming to httpstcogr3opnubfc sephora harveynichols and sephorainjcp on april 6th httpstcopqcntdlvq3 ss18 fentyxpuma is out now so excited for yall to finally have this collection man nhttpstcoiecnxedmpp fentyxpuma httpstcocoqqjo50v7 glory to god httpstcomsvq24pqte ciao thats right fentybeauty is finally coming to sephoraitalia on april 6th httpstcoqh7opfajzl fentyxpuma gang nfentyxpuma ss18 march15th httpstcodcgyzintgj the new ss18 fentyxpuma collection is about to be here i know you guys are excited to finally have it and the countdown to march15th starts now bye bye coins httpstcorw1deawgcq happy valentines ladies my newest collab with stance drops tonight get the coldhearted collection at midnight pst on httpstcoqh9ci0rpim rihannaxstance httpstcoqtoaupsfzk rt claralionelfdn todays gpforeducation replenishment conference in dakar senegal raised over 23b for global education rihanna hello theresa_may and pennymordaunt please continue to prioritize girls education and be a top funder of gpforeducation will dfid_uk make a historic commitment of 380m to fundeducation tomorrow claralionelfdn glblctzn hi juliebishopmp turnbullmalcolm will you step up w a xa0200m pledge to fundeducation at the gpforeducation conference in senegal tomorrow kick off your 1st year on the humanrightscouncil by giving the universal human right to education claralionelfdn glblctzn merci emmanuelmacron for stepping up to cohost gpforeducations financing conference in dakar will francexa0xa0pledge 250m for gpforeducation tomorrow claralionelfdn glblctzn rt erna_solberg rihanna gpforeducation glblctzn claralionelfdn thanks rihanna my new development minister nikolaiastrup will brin erna_solberg throwback to 1 year ago when we talked about how important it is to fundeducation now its time will lead in senegal on 2218 with a 375m usd pledge to gpforeducation glblctzn claralionelfdn httpstcokrfxbmmsbj shade griselda nhow yall liking the shades of mattemoiselle all 14 available now fentybeauty sephora harveynichols sephorainjcp httpstcousxik9phqc httpstcoz8akeohrgn mattemoiselle is here we got a color for every mood get all 14 lip shades now at fentybeauty httpstcogr3opnubfc sephora harveynichols and sephorainjcp today httpstcosez6nxrbss shade madamn only 2 days until mattemoiselle drops in 14 shades at 9am est dec 26 fentybeauty httpstco3dpqcxfq9a duckie_thot gettin it in with mattemoiselle all 14 shades can be yours in 4 days dec 26nfentybeauty sephora harveynichols sephorainjcp httpstco1damtrmqoj shade sawc mattemoiselle fentybeauty sephora harveynichols and sephorainjcp httpstcoxadqgv1waa every con has its pros enjoy the new oceans8 trailer oceans8movie coming june 2018 httpstcoeefbrtd18a shade up 2 no goodnnone week til mattemoiselle drops get dem lips and coins readyyyyy fentybeauty httpstcousxik9phqc httpstcofehzbn8p8z what dat mouf do yall ready for mattemoiselle on dec 26 doe fentybeauty httpstco9dzabuunay shade pms comin at ya next tuesday dec 26 mattemoiselle fentybeauty httpstcoy7ufwbwtmg shade midnight wasabi n9 days til mattemoiselle is out at fentybeauty sephora harveynichols sephorainjcp httpstcowfoss2mrfs shade freckle fiesta nmattemoiselle lipstick ndec26 fentybeauty sephora harveynichols httpstcosfgwhwqcsr shade one of the boyzn14 fentybeauty mattemoiselle lipsticks coming dec 26 nget yo coins ready httpstcoee9z1hbjqj rt oceans8movie join the dream scheme oceans8 hits theaters june 2018 httpstcow4hoec3kzy shade candyvenom mattemoiselle drops online at 9am est on dec26 fentybeauty httpstco5hjmpi3f49 shade spanked mattemoiselle drops dec 26th at fentybeauty sephora and harveynichols httpstcodungx1oqi4 14 new fentybeauty lipstick shades coming right up mattemoiselle drops online at 9am est on dec 26 be first in line sephora harveynichols and sephorainjcp httpstcoroct2fpxua rt rocnation new rihanna consideration dance remixes are out now listen on tidal here httpstcow36uqn79id httpstcox6ybgf rt shazam rihannas considerationremix ft sza is our song of the day listen now on applemusic httpstcowoolyt9fwi ht the brand new trainer is here and available now come thru at httpstcoiecnxedmpp fentyxpuma httpstcoz2bitrnojc shout out to the big homie god nbig ups to all the fans and streamers for the support when sis am not even had an album out 2017 spotify blackgirlmagic httpstcoukiazts1ro my fenty beauty queens beautiful and uncensored with stunna fentybeauty httpstcoze9xjnoiva come thruuuuu sis that stunna looking bomb af on yo cute bald head ass lol nfentybeauty httpstcokrsjt3kvoi bout dat stunna life out now at fentybeauty httpstcogr3opnubfc httpstco7kxybb3ucd stunna is out now at httpstcogr3opncao4 fentybeauty sephora harveynichols sephorainjcp httpstcokrsxc2ebpl stunna drops tonight at midnight est fentybeauty sephora harveynichols sephorainjcp httpstcoubgbtg9r2x issa role model ndat stunna dropping at midnight tonight babyyy fentybeauty httpstco6ccymfzmke dazed cover 44 ncoverseason httpstcoa0l7hdrrap me i want to look like shirley temple had dreadsnyusefhairnyc say no more ndazed cover 34 httpstco9c02zzskhy stay woke dazed cover 24 httpstcoaujgr6ptss dazed magazine 4 covers 14nnphotography by harleyvweir nstyling by robbiespencernhair by yusefhairnycnmakeup by thomasdekluyvernnails by jennylongworth httpstcoyd5viysk6q vogueparis on stands dec1nncover 3 shot by jeanpaulgoude nstyled by aleksandra woronieckanhair by yusefhairnycnmakeup by stephanemaraisnnails by jennylongworth httpstcovkvqoz4puu vogueparis nncover 2 shot by inezandvinoodhnnstyled by melottenbergnhair by yusefhairnycnmakeup by stephanemaraisnnails by mariasalandra httpstcozxw38pgr1z vogueparis guesteditor for december issue 3 photographers 3 editorials 3 coversnncover 1 shot by juergentellernstyled by anastasiabarbierinhair by yusefhairnycnmakeup by yadimnnails by mariasalandra httpstcoffudiqoxbi waiting for stunna like only 5 days left fentybeauty httpstcomnxkwexlgr when nov 23 not coming fast enough stunna less than a week til it drops fentybeauty httpstcoxuxhson8cn time mag named fentybeauty one of the 25 best inventions of 2017 i am honored and i have to send love to everyone whos supported this brand in the 2months that weve been here glory to the most high httpstcosgxsio6wxa httpstcogspg64a93p screaming fentybeauty won 3 refinery29 beautyinnovatorawards innovator of the year best foundation for profiltr and best beauty campaign thank you r29bia shout out to the big homie god httpstcogiagjgt712 stunna fentybeauty out next thursday httpstcodkxtqgrpb0 stunna lips on da homie slickwoods this was shortly after she said she would never wear red lipstick u200d coming nov 23 fentybeauty httpstcoyvj22ip9dt stunna do not laugh at my tutorial skillz u200d fentybeauty httpstcoe1rv8xhc30 nov 23 stunna fentybeauty httpstcobfhdc4e6km be a stunna fentybeauty nstunna lip paint in shade uncensored httpstcodoimfjkzpf stunna lip paint by fentybeauty coming to sephora and harveynichols on nov 23 httpstcohxxrlf1t9q stunna lip paint nov 23 fentybeauty httpstcolnxjborlnq nov 23 get your lips ready stunna lip paint is coming fentybeauty httpstcowks8k7qvef thottie or nice tomorrow new rihannaxstance for the holidays are out midnight pt tonight at stance httpstcoic7t2qekd5 ayyyyye when you get yo eyeshadow exactly like the other eye duckie_thot galaxycollection fentybeauty httpstconznmkzulgb squad get the limited edition galaxycollection before its gone fentybeauty httpstcoaog0vhq4ot rt amas rihanna could win her seventh award for favorite female artist soulrb at the amas rt to vote httpstcoj44adhdtmq a true queen you are cher thank you httpstco2nulv5djfb the latest from the aw17 fentyxpuma collection is out now at httpstcopta1gkqujy fentyxpuma puma httpstcoxajkvgy5o6 tell da paparazzi get the lens right nerdarmy lemon is out now watch the tutorial httpstco2yjl2hs4iq nooneeverreallydies pharrell httpstcoqsw6f2gukz thursday more from the fentyxpuma aw17 collection drops nov 2nd httpstcojyie65ykjh cover of voguearabia on stands nov 1st httpstcoolyxk5dv2e november 1st voguearabia httpstcoriajabcopa httpstco7pnfy8hupp'"
            ]
          },
          "metadata": {
            "tags": []
          },
          "execution_count": 12
        }
      ]
    },
    {
      "cell_type": "markdown",
      "metadata": {
        "id": "g-a89Xa6tcxZ",
        "colab_type": "text"
      },
      "source": [
        "Using GloVe pretrained word embeddings"
      ]
    },
    {
      "cell_type": "code",
      "metadata": {
        "id": "dM1mvLkf12VK",
        "colab_type": "code",
        "colab": {}
      },
      "source": [
        "glove_vectors = dict()"
      ],
      "execution_count": 13,
      "outputs": []
    },
    {
      "cell_type": "code",
      "metadata": {
        "id": "cloOfqqy2HQn",
        "colab_type": "code",
        "colab": {}
      },
      "source": [
        "import numpy as np\n"
      ],
      "execution_count": 14,
      "outputs": []
    },
    {
      "cell_type": "code",
      "metadata": {
        "id": "RVj4jMHN_4k1",
        "colab_type": "code",
        "colab": {
          "base_uri": "https://localhost:8080/",
          "height": 50
        },
        "outputId": "045ec851-d425-4f22-92e8-63a63b7e06ed"
      },
      "source": [
        "%%time\n",
        "\n",
        "file = open('/content/drive/My Drive/glove.6B.100d.txt', encoding='utf-8')\n",
        "\n",
        "for line in file:\n",
        "    values = line.split()\n",
        "    \n",
        "    word  = values[0]\n",
        "    vectors = np.asarray(values[1:])\n",
        "    glove_vectors[word] = vectors\n",
        "    \n",
        "file.close()"
      ],
      "execution_count": 15,
      "outputs": [
        {
          "output_type": "stream",
          "text": [
            "CPU times: user 14 s, sys: 629 ms, total: 14.7 s\n",
            "Wall time: 16 s\n"
          ],
          "name": "stdout"
        }
      ]
    },
    {
      "cell_type": "code",
      "metadata": {
        "id": "6jjQTLkj1_Vy",
        "colab_type": "code",
        "colab": {}
      },
      "source": [
        "glove_vectors"
      ],
      "execution_count": null,
      "outputs": []
    },
    {
      "cell_type": "code",
      "metadata": {
        "id": "YTJREwPU2RHg",
        "colab_type": "code",
        "colab": {
          "base_uri": "https://localhost:8080/",
          "height": 34
        },
        "outputId": "185b0be4-6745-4d03-d534-5681646a5ba5"
      },
      "source": [
        "len(glove_vectors)"
      ],
      "execution_count": 16,
      "outputs": [
        {
          "output_type": "execute_result",
          "data": {
            "text/plain": [
              "400000"
            ]
          },
          "metadata": {
            "tags": []
          },
          "execution_count": 16
        }
      ]
    },
    {
      "cell_type": "code",
      "metadata": {
        "id": "SniyGk1G3OYG",
        "colab_type": "code",
        "colab": {}
      },
      "source": [
        "vec_shape=100"
      ],
      "execution_count": 17,
      "outputs": []
    },
    {
      "cell_type": "code",
      "metadata": {
        "id": "Qis9MPku2cWv",
        "colab_type": "code",
        "colab": {}
      },
      "source": [
        "def get_vec(x):\n",
        "    arr = np.zeros(vec_shape)\n",
        "    text = str(x).split()\n",
        "    \n",
        "    for t in text:\n",
        "        try:\n",
        "            vec = glove_vectors.get(t).astype(float)\n",
        "            arr = arr + vec\n",
        "        except:\n",
        "            pass\n",
        "        \n",
        "    arr = arr.reshape(1, -1)[0]\n",
        "    return arr/len(text)"
      ],
      "execution_count": 18,
      "outputs": []
    },
    {
      "cell_type": "markdown",
      "metadata": {
        "id": "O3emkSFft0L0",
        "colab_type": "text"
      },
      "source": [
        "Finally word embedded to vectors"
      ]
    },
    {
      "cell_type": "code",
      "metadata": {
        "id": "rDboaMQf20JH",
        "colab_type": "code",
        "colab": {
          "base_uri": "https://localhost:8080/",
          "height": 50
        },
        "outputId": "a3b5956e-6389-4010-c2dd-c4b07499461d"
      },
      "source": [
        "%%time\n",
        "df['vec'] = df['tweet'].apply(lambda x: get_vec(x))"
      ],
      "execution_count": null,
      "outputs": [
        {
          "output_type": "stream",
          "text": [
            "CPU times: user 31min 22s, sys: 1.61 s, total: 31min 23s\n",
            "Wall time: 31min 25s\n"
          ],
          "name": "stdout"
        }
      ]
    },
    {
      "cell_type": "code",
      "metadata": {
        "id": "-hGlT9I83AZT",
        "colab_type": "code",
        "colab": {}
      },
      "source": [
        "df['vec']\n",
        "df.fillna(value=0)\n",
        "df['vec'].isnull().sum()"
      ],
      "execution_count": null,
      "outputs": []
    },
    {
      "cell_type": "code",
      "metadata": {
        "id": "3OHATCP4ARiS",
        "colab_type": "code",
        "colab": {
          "base_uri": "https://localhost:8080/",
          "height": 70
        },
        "outputId": "36570534-90fd-48ff-f364-44488019dd06"
      },
      "source": [
        "from sklearn.externals import joblib"
      ],
      "execution_count": 20,
      "outputs": [
        {
          "output_type": "stream",
          "text": [
            "/usr/local/lib/python3.6/dist-packages/sklearn/externals/joblib/__init__.py:15: FutureWarning: sklearn.externals.joblib is deprecated in 0.21 and will be removed in 0.23. Please import this functionality directly from joblib, which can be installed with: pip install joblib. If this warning is raised when loading pickled models, you may need to re-serialize those models with scikit-learn 0.21+.\n",
            "  warnings.warn(msg, category=FutureWarning)\n"
          ],
          "name": "stderr"
        }
      ]
    },
    {
      "cell_type": "code",
      "metadata": {
        "id": "nEooiXuq-1zj",
        "colab_type": "code",
        "colab": {
          "base_uri": "https://localhost:8080/",
          "height": 34
        },
        "outputId": "29b114ce-66e2-4eae-9855-9c248efd84ca"
      },
      "source": [
        "joblib.dump(df['vec'], 'drive/My Drive/Random/preprocess.pkl') "
      ],
      "execution_count": null,
      "outputs": [
        {
          "output_type": "execute_result",
          "data": {
            "text/plain": [
              "['drive/My Drive/Random/preprocess.pkl']"
            ]
          },
          "metadata": {
            "tags": []
          },
          "execution_count": 151
        }
      ]
    },
    {
      "cell_type": "markdown",
      "metadata": {
        "id": "x5Kbaa2qw_Yb",
        "colab_type": "text"
      },
      "source": [
        "Gender Classification of celebrity"
      ]
    },
    {
      "cell_type": "code",
      "metadata": {
        "id": "l7s230S3AMdW",
        "colab_type": "code",
        "colab": {}
      },
      "source": [
        "X=joblib.load('drive/My Drive/Random/preprocess.pkl') "
      ],
      "execution_count": 57,
      "outputs": []
    },
    {
      "cell_type": "code",
      "metadata": {
        "id": "PBAV2OMFF0id",
        "colab_type": "code",
        "colab": {}
      },
      "source": [
        "vec_shape=100\n",
        "X = np.concatenate(X, axis = 0).reshape(-1, vec_shape)"
      ],
      "execution_count": 58,
      "outputs": []
    },
    {
      "cell_type": "code",
      "metadata": {
        "id": "q3MI0RWFLL_x",
        "colab_type": "code",
        "colab": {
          "base_uri": "https://localhost:8080/",
          "height": 34
        },
        "outputId": "1bf8d84e-8dc5-43bc-f647-9eb76b313ad5"
      },
      "source": [
        "type(X)"
      ],
      "execution_count": 59,
      "outputs": [
        {
          "output_type": "execute_result",
          "data": {
            "text/plain": [
              "numpy.ndarray"
            ]
          },
          "metadata": {
            "tags": []
          },
          "execution_count": 59
        }
      ]
    },
    {
      "cell_type": "code",
      "metadata": {
        "id": "W_Uhzo4vBTBA",
        "colab_type": "code",
        "colab": {}
      },
      "source": [
        "from sklearn.preprocessing import LabelEncoder\n",
        "le = LabelEncoder()\n",
        "y['gen'] = le.fit_transform(y['gen'])"
      ],
      "execution_count": 60,
      "outputs": []
    },
    {
      "cell_type": "code",
      "metadata": {
        "id": "wHlx7xJGBoJx",
        "colab_type": "code",
        "colab": {}
      },
      "source": [
        "import numpy as np\n",
        "X_final=X\n",
        "y_final=y['gen'].to_numpy()"
      ],
      "execution_count": 61,
      "outputs": []
    },
    {
      "cell_type": "code",
      "metadata": {
        "id": "KBNv43o0gZL8",
        "colab_type": "code",
        "colab": {
          "base_uri": "https://localhost:8080/",
          "height": 34
        },
        "outputId": "acb43e20-952b-4205-c270-6f5e09f7d294"
      },
      "source": [
        "np.all(np.isfinite(X_final))"
      ],
      "execution_count": 62,
      "outputs": [
        {
          "output_type": "execute_result",
          "data": {
            "text/plain": [
              "False"
            ]
          },
          "metadata": {
            "tags": []
          },
          "execution_count": 62
        }
      ]
    },
    {
      "cell_type": "code",
      "metadata": {
        "id": "PT35LL5ogbt1",
        "colab_type": "code",
        "colab": {
          "base_uri": "https://localhost:8080/",
          "height": 34
        },
        "outputId": "43d92153-b1cb-491c-c75f-eebe599fe001"
      },
      "source": [
        "np.any(np.isnan(X_final))"
      ],
      "execution_count": 63,
      "outputs": [
        {
          "output_type": "execute_result",
          "data": {
            "text/plain": [
              "True"
            ]
          },
          "metadata": {
            "tags": []
          },
          "execution_count": 63
        }
      ]
    },
    {
      "cell_type": "code",
      "metadata": {
        "id": "ttOIJ0j0Bsvy",
        "colab_type": "code",
        "colab": {
          "base_uri": "https://localhost:8080/",
          "height": 34
        },
        "outputId": "09ea435a-d008-4d7e-96aa-c52fefb459b7"
      },
      "source": [
        "X_final.shape\n",
        "#np.any(np.isnan(X_final))"
      ],
      "execution_count": 64,
      "outputs": [
        {
          "output_type": "execute_result",
          "data": {
            "text/plain": [
              "(14499, 100)"
            ]
          },
          "metadata": {
            "tags": []
          },
          "execution_count": 64
        }
      ]
    },
    {
      "cell_type": "code",
      "metadata": {
        "id": "NJuqkOwBByh7",
        "colab_type": "code",
        "colab": {
          "base_uri": "https://localhost:8080/",
          "height": 34
        },
        "outputId": "a8b1d1ff-fe54-4a2e-b660-04d779d2b979"
      },
      "source": [
        "X_final[0].shape"
      ],
      "execution_count": 65,
      "outputs": [
        {
          "output_type": "execute_result",
          "data": {
            "text/plain": [
              "(100,)"
            ]
          },
          "metadata": {
            "tags": []
          },
          "execution_count": 65
        }
      ]
    },
    {
      "cell_type": "code",
      "metadata": {
        "id": "aNmUEL0uf4fL",
        "colab_type": "code",
        "colab": {}
      },
      "source": [
        "from numpy import *\n",
        "where_are_NaNs = isnan(X_final)\n",
        "X_final[where_are_NaNs] = 0"
      ],
      "execution_count": 66,
      "outputs": []
    },
    {
      "cell_type": "code",
      "metadata": {
        "id": "dayv9fOZhA1q",
        "colab_type": "code",
        "colab": {}
      },
      "source": [
        "X_final[X_final == inf] = 0"
      ],
      "execution_count": 72,
      "outputs": []
    },
    {
      "cell_type": "code",
      "metadata": {
        "id": "_z-ahOZ7EbXd",
        "colab_type": "code",
        "colab": {
          "base_uri": "https://localhost:8080/",
          "height": 34
        },
        "outputId": "b42f26e2-8566-4bad-daed-2b4dcf626148"
      },
      "source": [
        "np.any(np.isnan(X_final))"
      ],
      "execution_count": 73,
      "outputs": [
        {
          "output_type": "execute_result",
          "data": {
            "text/plain": [
              "False"
            ]
          },
          "metadata": {
            "tags": []
          },
          "execution_count": 73
        }
      ]
    },
    {
      "cell_type": "code",
      "metadata": {
        "id": "O_z_bFWqGv3G",
        "colab_type": "code",
        "colab": {
          "base_uri": "https://localhost:8080/",
          "height": 34
        },
        "outputId": "12271382-ef07-4c11-a21d-6c3f7853cb42"
      },
      "source": [
        "np.all(np.isfinite(X_final))"
      ],
      "execution_count": 74,
      "outputs": [
        {
          "output_type": "execute_result",
          "data": {
            "text/plain": [
              "True"
            ]
          },
          "metadata": {
            "tags": []
          },
          "execution_count": 74
        }
      ]
    },
    {
      "cell_type": "code",
      "metadata": {
        "id": "LJZGiJuEB1oN",
        "colab_type": "code",
        "colab": {}
      },
      "source": [
        "from sklearn.model_selection import train_test_split\n",
        "X_train,X_test,y_train,y_test=train_test_split(X_final,y_final,random_state=40,test_size=.2)"
      ],
      "execution_count": 75,
      "outputs": []
    },
    {
      "cell_type": "code",
      "metadata": {
        "id": "KfYJBqU4CBae",
        "colab_type": "code",
        "colab": {}
      },
      "source": [
        "from sklearn.linear_model import LogisticRegression\n",
        "\n",
        "from sklearn.metrics import classification_report, confusion_matrix\n",
        "clf = LogisticRegression(solver = 'liblinear', multi_class='auto')\n"
      ],
      "execution_count": 76,
      "outputs": []
    },
    {
      "cell_type": "code",
      "metadata": {
        "id": "Ni7ec_ZDCG2u",
        "colab_type": "code",
        "colab": {
          "base_uri": "https://localhost:8080/",
          "height": 101
        },
        "outputId": "5862ee06-0848-4730-f506-4962f1b32fbf"
      },
      "source": [
        "clf.fit(X_train, y_train)"
      ],
      "execution_count": 77,
      "outputs": [
        {
          "output_type": "execute_result",
          "data": {
            "text/plain": [
              "LogisticRegression(C=1.0, class_weight=None, dual=False, fit_intercept=True,\n",
              "                   intercept_scaling=1, l1_ratio=None, max_iter=100,\n",
              "                   multi_class='auto', n_jobs=None, penalty='l2',\n",
              "                   random_state=None, solver='liblinear', tol=0.0001, verbose=0,\n",
              "                   warm_start=False)"
            ]
          },
          "metadata": {
            "tags": []
          },
          "execution_count": 77
        }
      ]
    },
    {
      "cell_type": "code",
      "metadata": {
        "id": "IONLaI7QCSpd",
        "colab_type": "code",
        "colab": {}
      },
      "source": [
        "y_pred = clf.predict(X_test)"
      ],
      "execution_count": 78,
      "outputs": []
    },
    {
      "cell_type": "code",
      "metadata": {
        "id": "Xnhb6O9Gr-G6",
        "colab_type": "code",
        "colab": {
          "base_uri": "https://localhost:8080/",
          "height": 238
        },
        "outputId": "fec0de2e-b04c-4637-a33d-119694c3c6c9"
      },
      "source": [
        "print(classification_report(y_test, y_pred))"
      ],
      "execution_count": 79,
      "outputs": [
        {
          "output_type": "stream",
          "text": [
            "              precision    recall  f1-score   support\n",
            "\n",
            "           0       0.80      0.52      0.63       804\n",
            "           1       0.84      0.95      0.89      2093\n",
            "           2       0.00      0.00      0.00         3\n",
            "\n",
            "    accuracy                           0.83      2900\n",
            "   macro avg       0.54      0.49      0.51      2900\n",
            "weighted avg       0.82      0.83      0.82      2900\n",
            "\n"
          ],
          "name": "stdout"
        },
        {
          "output_type": "stream",
          "text": [
            "/usr/local/lib/python3.6/dist-packages/sklearn/metrics/_classification.py:1272: UndefinedMetricWarning: Precision and F-score are ill-defined and being set to 0.0 in labels with no predicted samples. Use `zero_division` parameter to control this behavior.\n",
            "  _warn_prf(average, modifier, msg_start, len(result))\n"
          ],
          "name": "stderr"
        }
      ]
    },
    {
      "cell_type": "code",
      "metadata": {
        "id": "3UjDlR5DsDK_",
        "colab_type": "code",
        "colab": {
          "base_uri": "https://localhost:8080/",
          "height": 67
        },
        "outputId": "3b86ae13-2183-430d-eead-ca870a5ee57a"
      },
      "source": [
        "print(confusion_matrix(y_test, y_pred))"
      ],
      "execution_count": 80,
      "outputs": [
        {
          "output_type": "stream",
          "text": [
            "[[ 415  389    0]\n",
            " [ 103 1990    0]\n",
            " [   2    1    0]]\n"
          ],
          "name": "stdout"
        }
      ]
    },
    {
      "cell_type": "code",
      "metadata": {
        "id": "WCEdfWtcsKaG",
        "colab_type": "code",
        "colab": {}
      },
      "source": [
        "from sklearn.svm import LinearSVC"
      ],
      "execution_count": 81,
      "outputs": []
    },
    {
      "cell_type": "code",
      "metadata": {
        "id": "CO4MBmI1sPPA",
        "colab_type": "code",
        "colab": {
          "base_uri": "https://localhost:8080/",
          "height": 84
        },
        "outputId": "0f159073-efbd-4bc2-aead-06bb321cdcde"
      },
      "source": [
        "clf = LinearSVC()\n",
        "clf.fit(X_train, y_train)"
      ],
      "execution_count": 82,
      "outputs": [
        {
          "output_type": "execute_result",
          "data": {
            "text/plain": [
              "LinearSVC(C=1.0, class_weight=None, dual=True, fit_intercept=True,\n",
              "          intercept_scaling=1, loss='squared_hinge', max_iter=1000,\n",
              "          multi_class='ovr', penalty='l2', random_state=None, tol=0.0001,\n",
              "          verbose=0)"
            ]
          },
          "metadata": {
            "tags": []
          },
          "execution_count": 82
        }
      ]
    },
    {
      "cell_type": "code",
      "metadata": {
        "id": "fkA_cPezsRw0",
        "colab_type": "code",
        "colab": {}
      },
      "source": [
        "y_pred = clf.predict(X_test)"
      ],
      "execution_count": 83,
      "outputs": []
    },
    {
      "cell_type": "code",
      "metadata": {
        "id": "Z3ogKLs2sVfR",
        "colab_type": "code",
        "colab": {
          "base_uri": "https://localhost:8080/",
          "height": 238
        },
        "outputId": "6138dfc1-a4b2-4731-c692-13b7fdb9bade"
      },
      "source": [
        "print(classification_report(y_test, y_pred))"
      ],
      "execution_count": 84,
      "outputs": [
        {
          "output_type": "stream",
          "text": [
            "              precision    recall  f1-score   support\n",
            "\n",
            "           0       0.79      0.62      0.70       804\n",
            "           1       0.87      0.94      0.90      2093\n",
            "           2       0.00      0.00      0.00         3\n",
            "\n",
            "    accuracy                           0.85      2900\n",
            "   macro avg       0.55      0.52      0.53      2900\n",
            "weighted avg       0.84      0.85      0.84      2900\n",
            "\n"
          ],
          "name": "stdout"
        },
        {
          "output_type": "stream",
          "text": [
            "/usr/local/lib/python3.6/dist-packages/sklearn/metrics/_classification.py:1272: UndefinedMetricWarning: Precision and F-score are ill-defined and being set to 0.0 in labels with no predicted samples. Use `zero_division` parameter to control this behavior.\n",
            "  _warn_prf(average, modifier, msg_start, len(result))\n"
          ],
          "name": "stderr"
        }
      ]
    },
    {
      "cell_type": "markdown",
      "metadata": {
        "id": "8QvGlCp5xRg2",
        "colab_type": "text"
      },
      "source": [
        "Fame Classification"
      ]
    },
    {
      "cell_type": "code",
      "metadata": {
        "id": "iXRzUbnUsXiJ",
        "colab_type": "code",
        "colab": {}
      },
      "source": [
        "from sklearn.preprocessing import LabelEncoder\n",
        "le = LabelEncoder()\n",
        "y['fame'] = le.fit_transform(y['fame'])"
      ],
      "execution_count": 85,
      "outputs": []
    },
    {
      "cell_type": "code",
      "metadata": {
        "id": "2Rdg7DKuxZXc",
        "colab_type": "code",
        "colab": {}
      },
      "source": [
        "import numpy as np\n",
        "X_final=X\n",
        "y_final=y['fame'].to_numpy()"
      ],
      "execution_count": 88,
      "outputs": []
    },
    {
      "cell_type": "code",
      "metadata": {
        "id": "od2Ab27TxcrV",
        "colab_type": "code",
        "colab": {
          "base_uri": "https://localhost:8080/",
          "height": 34
        },
        "outputId": "53e1c0f9-654f-4de2-8e53-be125f26845e"
      },
      "source": [
        "X_final.shape"
      ],
      "execution_count": 89,
      "outputs": [
        {
          "output_type": "execute_result",
          "data": {
            "text/plain": [
              "(14499, 100)"
            ]
          },
          "metadata": {
            "tags": []
          },
          "execution_count": 89
        }
      ]
    },
    {
      "cell_type": "code",
      "metadata": {
        "id": "TxYrYv2ox1Hf",
        "colab_type": "code",
        "colab": {}
      },
      "source": [
        "from numpy import *\n",
        "where_are_NaNs = isnan(X_final)\n",
        "X_final[where_are_NaNs] = 0"
      ],
      "execution_count": 90,
      "outputs": []
    },
    {
      "cell_type": "code",
      "metadata": {
        "id": "JSr0w3Qyx6jR",
        "colab_type": "code",
        "colab": {}
      },
      "source": [
        "from sklearn.model_selection import train_test_split\n",
        "X_train,X_test,y_train,y_test=train_test_split(X_final,y_final,random_state=40,test_size=.2)"
      ],
      "execution_count": 91,
      "outputs": []
    },
    {
      "cell_type": "code",
      "metadata": {
        "id": "-C7fv51mx_0q",
        "colab_type": "code",
        "colab": {}
      },
      "source": [
        "from sklearn.linear_model import LogisticRegression\n",
        "\n",
        "from sklearn.metrics import classification_report, confusion_matrix\n",
        "clf = LogisticRegression(solver = 'liblinear', multi_class='auto')\n"
      ],
      "execution_count": 92,
      "outputs": []
    },
    {
      "cell_type": "code",
      "metadata": {
        "id": "q8Dyb9YB2MA5",
        "colab_type": "code",
        "colab": {
          "base_uri": "https://localhost:8080/",
          "height": 101
        },
        "outputId": "8ee895e9-6fe1-47b0-d963-105e2a661cbe"
      },
      "source": [
        "clf.fit(X_train, y_train)"
      ],
      "execution_count": 94,
      "outputs": [
        {
          "output_type": "execute_result",
          "data": {
            "text/plain": [
              "LogisticRegression(C=1.0, class_weight=None, dual=False, fit_intercept=True,\n",
              "                   intercept_scaling=1, l1_ratio=None, max_iter=100,\n",
              "                   multi_class='auto', n_jobs=None, penalty='l2',\n",
              "                   random_state=None, solver='liblinear', tol=0.0001, verbose=0,\n",
              "                   warm_start=False)"
            ]
          },
          "metadata": {
            "tags": []
          },
          "execution_count": 94
        }
      ]
    },
    {
      "cell_type": "code",
      "metadata": {
        "id": "hgLePEFYyDs2",
        "colab_type": "code",
        "colab": {}
      },
      "source": [
        "y_pred = clf.predict(X_test)"
      ],
      "execution_count": 95,
      "outputs": []
    },
    {
      "cell_type": "code",
      "metadata": {
        "id": "x_5a5f7G2C1K",
        "colab_type": "code",
        "colab": {
          "base_uri": "https://localhost:8080/",
          "height": 238
        },
        "outputId": "121a9317-2fb7-41a7-8d8e-bda8797c2ba8"
      },
      "source": [
        "print(classification_report(y_test, y_pred))"
      ],
      "execution_count": 96,
      "outputs": [
        {
          "output_type": "stream",
          "text": [
            "              precision    recall  f1-score   support\n",
            "\n",
            "           0       0.00      0.00      0.00       139\n",
            "           1       0.76      0.99      0.86      2175\n",
            "           2       0.55      0.06      0.10       586\n",
            "\n",
            "    accuracy                           0.75      2900\n",
            "   macro avg       0.44      0.35      0.32      2900\n",
            "weighted avg       0.68      0.75      0.66      2900\n",
            "\n"
          ],
          "name": "stdout"
        },
        {
          "output_type": "stream",
          "text": [
            "/usr/local/lib/python3.6/dist-packages/sklearn/metrics/_classification.py:1272: UndefinedMetricWarning: Precision and F-score are ill-defined and being set to 0.0 in labels with no predicted samples. Use `zero_division` parameter to control this behavior.\n",
            "  _warn_prf(average, modifier, msg_start, len(result))\n"
          ],
          "name": "stderr"
        }
      ]
    },
    {
      "cell_type": "code",
      "metadata": {
        "id": "0qltneeF2WMc",
        "colab_type": "code",
        "colab": {
          "base_uri": "https://localhost:8080/",
          "height": 67
        },
        "outputId": "f61ea447-dadd-4cb3-f69d-92649203b600"
      },
      "source": [
        "print(confusion_matrix(y_test, y_pred))"
      ],
      "execution_count": 97,
      "outputs": [
        {
          "output_type": "stream",
          "text": [
            "[[   0  139    0]\n",
            " [   0 2148   27]\n",
            " [   0  553   33]]\n"
          ],
          "name": "stdout"
        }
      ]
    },
    {
      "cell_type": "code",
      "metadata": {
        "id": "8nEZ2RsQ2irw",
        "colab_type": "code",
        "colab": {}
      },
      "source": [
        "from sklearn.svm import LinearSVC"
      ],
      "execution_count": 98,
      "outputs": []
    },
    {
      "cell_type": "code",
      "metadata": {
        "id": "QNLY1Hbz5o2Y",
        "colab_type": "code",
        "colab": {}
      },
      "source": [
        "from sklearn.svm import SVC"
      ],
      "execution_count": 104,
      "outputs": []
    },
    {
      "cell_type": "code",
      "metadata": {
        "id": "ZepHLxR12omo",
        "colab_type": "code",
        "colab": {
          "base_uri": "https://localhost:8080/",
          "height": 84
        },
        "outputId": "18f382b8-c485-4e3a-9f8b-ac1fac8fac08"
      },
      "source": [
        "clf = LinearSVC()\n",
        "clf.fit(X_train, y_train)"
      ],
      "execution_count": 99,
      "outputs": [
        {
          "output_type": "execute_result",
          "data": {
            "text/plain": [
              "LinearSVC(C=1.0, class_weight=None, dual=True, fit_intercept=True,\n",
              "          intercept_scaling=1, loss='squared_hinge', max_iter=1000,\n",
              "          multi_class='ovr', penalty='l2', random_state=None, tol=0.0001,\n",
              "          verbose=0)"
            ]
          },
          "metadata": {
            "tags": []
          },
          "execution_count": 99
        }
      ]
    },
    {
      "cell_type": "code",
      "metadata": {
        "id": "VO3COJNF2tYj",
        "colab_type": "code",
        "colab": {}
      },
      "source": [
        "y_pred = clf.predict(X_test)"
      ],
      "execution_count": 100,
      "outputs": []
    },
    {
      "cell_type": "code",
      "metadata": {
        "id": "bU6YIcPI21jo",
        "colab_type": "code",
        "colab": {
          "base_uri": "https://localhost:8080/",
          "height": 185
        },
        "outputId": "df508426-2887-42ce-d346-cabc0c3afd79"
      },
      "source": [
        "print(classification_report(y_test, y_pred))"
      ],
      "execution_count": 101,
      "outputs": [
        {
          "output_type": "stream",
          "text": [
            "              precision    recall  f1-score   support\n",
            "\n",
            "           0       0.00      0.00      0.00       139\n",
            "           1       0.76      0.99      0.86      2175\n",
            "           2       0.51      0.06      0.10       586\n",
            "\n",
            "    accuracy                           0.75      2900\n",
            "   macro avg       0.42      0.35      0.32      2900\n",
            "weighted avg       0.67      0.75      0.66      2900\n",
            "\n"
          ],
          "name": "stdout"
        }
      ]
    },
    {
      "cell_type": "code",
      "metadata": {
        "id": "nb0pwUAS25qM",
        "colab_type": "code",
        "colab": {
          "base_uri": "https://localhost:8080/",
          "height": 67
        },
        "outputId": "8e28a0f7-430d-4b16-c7b4-1e77edf54e42"
      },
      "source": [
        "print(confusion_matrix(y_test, y_pred))"
      ],
      "execution_count": 102,
      "outputs": [
        {
          "output_type": "stream",
          "text": [
            "[[   0  138    1]\n",
            " [   1 2143   31]\n",
            " [   0  553   33]]\n"
          ],
          "name": "stdout"
        }
      ]
    },
    {
      "cell_type": "code",
      "metadata": {
        "id": "fPbeG_Jh5_pi",
        "colab_type": "code",
        "colab": {
          "base_uri": "https://localhost:8080/",
          "height": 84
        },
        "outputId": "9507b187-0689-4338-ca47-3d35f1aa0e40"
      },
      "source": [
        "classifier = SVC(kernel = 'rbf', random_state = 0)\n",
        "classifier.fit(X_train, y_train)"
      ],
      "execution_count": 106,
      "outputs": [
        {
          "output_type": "execute_result",
          "data": {
            "text/plain": [
              "SVC(C=1.0, break_ties=False, cache_size=200, class_weight=None, coef0=0.0,\n",
              "    decision_function_shape='ovr', degree=3, gamma='scale', kernel='rbf',\n",
              "    max_iter=-1, probability=False, random_state=0, shrinking=True, tol=0.001,\n",
              "    verbose=False)"
            ]
          },
          "metadata": {
            "tags": []
          },
          "execution_count": 106
        }
      ]
    },
    {
      "cell_type": "code",
      "metadata": {
        "id": "iTa9NoS76QzD",
        "colab_type": "code",
        "colab": {}
      },
      "source": [
        "y_pred = clf.predict(X_test)"
      ],
      "execution_count": 107,
      "outputs": []
    },
    {
      "cell_type": "code",
      "metadata": {
        "id": "qITY6Lb16TU0",
        "colab_type": "code",
        "colab": {
          "base_uri": "https://localhost:8080/",
          "height": 185
        },
        "outputId": "e33c35e6-a037-4580-9e1c-21269d16f9b3"
      },
      "source": [
        "print(classification_report(y_test, y_pred))"
      ],
      "execution_count": 108,
      "outputs": [
        {
          "output_type": "stream",
          "text": [
            "              precision    recall  f1-score   support\n",
            "\n",
            "           0       0.00      0.00      0.00       139\n",
            "           1       0.76      0.99      0.86      2175\n",
            "           2       0.51      0.06      0.10       586\n",
            "\n",
            "    accuracy                           0.75      2900\n",
            "   macro avg       0.42      0.35      0.32      2900\n",
            "weighted avg       0.67      0.75      0.66      2900\n",
            "\n"
          ],
          "name": "stdout"
        }
      ]
    },
    {
      "cell_type": "markdown",
      "metadata": {
        "id": "xIaVT29j4Cjw",
        "colab_type": "text"
      },
      "source": [
        "Occupation classification"
      ]
    },
    {
      "cell_type": "code",
      "metadata": {
        "id": "GHKBIMW73Xgt",
        "colab_type": "code",
        "colab": {}
      },
      "source": [
        "from sklearn.preprocessing import LabelEncoder\n",
        "le = LabelEncoder()\n",
        "y['occ'] = le.fit_transform(y['occ'])"
      ],
      "execution_count": 109,
      "outputs": []
    },
    {
      "cell_type": "code",
      "metadata": {
        "id": "wi-5QzkG66vN",
        "colab_type": "code",
        "colab": {}
      },
      "source": [
        "import numpy as np\n",
        "X_final=X\n",
        "y_final=y['occ'].to_numpy()"
      ],
      "execution_count": 113,
      "outputs": []
    },
    {
      "cell_type": "code",
      "metadata": {
        "id": "pNwAoTSb7BMJ",
        "colab_type": "code",
        "colab": {}
      },
      "source": [
        "from numpy import *\n",
        "where_are_NaNs = isnan(X_final)\n",
        "X_final[where_are_NaNs] = 0"
      ],
      "execution_count": 114,
      "outputs": []
    },
    {
      "cell_type": "code",
      "metadata": {
        "id": "2wFt_fg27Fhj",
        "colab_type": "code",
        "colab": {}
      },
      "source": [
        "from sklearn.model_selection import train_test_split\n",
        "X_train,X_test,y_train,y_test=train_test_split(X_final,y_final,random_state=40,test_size=.2)"
      ],
      "execution_count": 115,
      "outputs": []
    },
    {
      "cell_type": "code",
      "metadata": {
        "id": "ZtrwZUjF7KY4",
        "colab_type": "code",
        "colab": {}
      },
      "source": [
        "from sklearn.linear_model import LogisticRegression\n",
        "\n",
        "from sklearn.metrics import classification_report, confusion_matrix\n",
        "clf = LogisticRegression(solver = 'liblinear', multi_class='auto')\n"
      ],
      "execution_count": 116,
      "outputs": []
    },
    {
      "cell_type": "code",
      "metadata": {
        "id": "LoOH9iEo7Txm",
        "colab_type": "code",
        "colab": {
          "base_uri": "https://localhost:8080/",
          "height": 101
        },
        "outputId": "56fa16c9-530e-4185-8173-9af000e4306d"
      },
      "source": [
        "clf.fit(X_train, y_train)"
      ],
      "execution_count": 117,
      "outputs": [
        {
          "output_type": "execute_result",
          "data": {
            "text/plain": [
              "LogisticRegression(C=1.0, class_weight=None, dual=False, fit_intercept=True,\n",
              "                   intercept_scaling=1, l1_ratio=None, max_iter=100,\n",
              "                   multi_class='auto', n_jobs=None, penalty='l2',\n",
              "                   random_state=None, solver='liblinear', tol=0.0001, verbose=0,\n",
              "                   warm_start=False)"
            ]
          },
          "metadata": {
            "tags": []
          },
          "execution_count": 117
        }
      ]
    },
    {
      "cell_type": "code",
      "metadata": {
        "id": "FaRFnvGP7Z-8",
        "colab_type": "code",
        "colab": {}
      },
      "source": [
        "y_pred = clf.predict(X_test)"
      ],
      "execution_count": 118,
      "outputs": []
    },
    {
      "cell_type": "code",
      "metadata": {
        "id": "1T2Sw4Tj7em-",
        "colab_type": "code",
        "colab": {
          "base_uri": "https://localhost:8080/",
          "height": 322
        },
        "outputId": "8230c530-205c-4881-dead-8bf4297e5354"
      },
      "source": [
        "print(classification_report(y_test, y_pred))"
      ],
      "execution_count": 119,
      "outputs": [
        {
          "output_type": "stream",
          "text": [
            "              precision    recall  f1-score   support\n",
            "\n",
            "           0       0.51      0.36      0.42       469\n",
            "           1       0.00      0.00      0.00        75\n",
            "           2       0.65      0.84      0.73       818\n",
            "           3       0.67      0.73      0.70       234\n",
            "           4       0.00      0.00      0.00        52\n",
            "           5       0.00      0.00      0.00         2\n",
            "           6       0.50      0.01      0.03        67\n",
            "           7       0.84      0.89      0.86      1183\n",
            "\n",
            "    accuracy                           0.71      2900\n",
            "   macro avg       0.39      0.35      0.34      2900\n",
            "weighted avg       0.67      0.71      0.68      2900\n",
            "\n"
          ],
          "name": "stdout"
        },
        {
          "output_type": "stream",
          "text": [
            "/usr/local/lib/python3.6/dist-packages/sklearn/metrics/_classification.py:1272: UndefinedMetricWarning: Precision and F-score are ill-defined and being set to 0.0 in labels with no predicted samples. Use `zero_division` parameter to control this behavior.\n",
            "  _warn_prf(average, modifier, msg_start, len(result))\n"
          ],
          "name": "stderr"
        }
      ]
    },
    {
      "cell_type": "code",
      "metadata": {
        "id": "p8Sn6HY77h6y",
        "colab_type": "code",
        "colab": {
          "base_uri": "https://localhost:8080/",
          "height": 84
        },
        "outputId": "6b8bf5c2-72cb-4424-b64a-72c40eb68dfb"
      },
      "source": [
        "classifier = SVC(kernel = 'rbf', random_state = 0)\n",
        "classifier.fit(X_train, y_train)"
      ],
      "execution_count": 120,
      "outputs": [
        {
          "output_type": "execute_result",
          "data": {
            "text/plain": [
              "SVC(C=1.0, break_ties=False, cache_size=200, class_weight=None, coef0=0.0,\n",
              "    decision_function_shape='ovr', degree=3, gamma='scale', kernel='rbf',\n",
              "    max_iter=-1, probability=False, random_state=0, shrinking=True, tol=0.001,\n",
              "    verbose=False)"
            ]
          },
          "metadata": {
            "tags": []
          },
          "execution_count": 120
        }
      ]
    },
    {
      "cell_type": "code",
      "metadata": {
        "id": "wxltUgc27uny",
        "colab_type": "code",
        "colab": {}
      },
      "source": [
        "y_pred = clf.predict(X_test)"
      ],
      "execution_count": 121,
      "outputs": []
    },
    {
      "cell_type": "code",
      "metadata": {
        "id": "8MewYMDU7yNO",
        "colab_type": "code",
        "colab": {
          "base_uri": "https://localhost:8080/",
          "height": 322
        },
        "outputId": "2d65fe50-4ffa-4918-c3a6-a18de01613f1"
      },
      "source": [
        "print(classification_report(y_test, y_pred))"
      ],
      "execution_count": 122,
      "outputs": [
        {
          "output_type": "stream",
          "text": [
            "              precision    recall  f1-score   support\n",
            "\n",
            "           0       0.51      0.36      0.42       469\n",
            "           1       0.00      0.00      0.00        75\n",
            "           2       0.65      0.84      0.73       818\n",
            "           3       0.67      0.73      0.70       234\n",
            "           4       0.00      0.00      0.00        52\n",
            "           5       0.00      0.00      0.00         2\n",
            "           6       0.50      0.01      0.03        67\n",
            "           7       0.84      0.89      0.86      1183\n",
            "\n",
            "    accuracy                           0.71      2900\n",
            "   macro avg       0.39      0.35      0.34      2900\n",
            "weighted avg       0.67      0.71      0.68      2900\n",
            "\n"
          ],
          "name": "stdout"
        },
        {
          "output_type": "stream",
          "text": [
            "/usr/local/lib/python3.6/dist-packages/sklearn/metrics/_classification.py:1272: UndefinedMetricWarning: Precision and F-score are ill-defined and being set to 0.0 in labels with no predicted samples. Use `zero_division` parameter to control this behavior.\n",
            "  _warn_prf(average, modifier, msg_start, len(result))\n"
          ],
          "name": "stderr"
        }
      ]
    },
    {
      "cell_type": "code",
      "metadata": {
        "id": "YJxgQxGR7zuh",
        "colab_type": "code",
        "colab": {
          "base_uri": "https://localhost:8080/",
          "height": 84
        },
        "outputId": "6f9b2a9f-7979-4249-8a41-409c6e3c07d0"
      },
      "source": [
        "classifier = SVC(kernel = 'poly', random_state = 0)\n",
        "classifier.fit(X_train, y_train)"
      ],
      "execution_count": 123,
      "outputs": [
        {
          "output_type": "execute_result",
          "data": {
            "text/plain": [
              "SVC(C=1.0, break_ties=False, cache_size=200, class_weight=None, coef0=0.0,\n",
              "    decision_function_shape='ovr', degree=3, gamma='scale', kernel='poly',\n",
              "    max_iter=-1, probability=False, random_state=0, shrinking=True, tol=0.001,\n",
              "    verbose=False)"
            ]
          },
          "metadata": {
            "tags": []
          },
          "execution_count": 123
        }
      ]
    },
    {
      "cell_type": "code",
      "metadata": {
        "id": "7su3jHHI77kG",
        "colab_type": "code",
        "colab": {}
      },
      "source": [
        "y_pred = clf.predict(X_test)"
      ],
      "execution_count": 124,
      "outputs": []
    },
    {
      "cell_type": "code",
      "metadata": {
        "id": "6ueEnLkJ7-Dh",
        "colab_type": "code",
        "colab": {
          "base_uri": "https://localhost:8080/",
          "height": 322
        },
        "outputId": "cf3071e2-44b6-4a08-f0cb-d9e8b69056a9"
      },
      "source": [
        "print(classification_report(y_test, y_pred))"
      ],
      "execution_count": 125,
      "outputs": [
        {
          "output_type": "stream",
          "text": [
            "              precision    recall  f1-score   support\n",
            "\n",
            "           0       0.51      0.36      0.42       469\n",
            "           1       0.00      0.00      0.00        75\n",
            "           2       0.65      0.84      0.73       818\n",
            "           3       0.67      0.73      0.70       234\n",
            "           4       0.00      0.00      0.00        52\n",
            "           5       0.00      0.00      0.00         2\n",
            "           6       0.50      0.01      0.03        67\n",
            "           7       0.84      0.89      0.86      1183\n",
            "\n",
            "    accuracy                           0.71      2900\n",
            "   macro avg       0.39      0.35      0.34      2900\n",
            "weighted avg       0.67      0.71      0.68      2900\n",
            "\n"
          ],
          "name": "stdout"
        },
        {
          "output_type": "stream",
          "text": [
            "/usr/local/lib/python3.6/dist-packages/sklearn/metrics/_classification.py:1272: UndefinedMetricWarning: Precision and F-score are ill-defined and being set to 0.0 in labels with no predicted samples. Use `zero_division` parameter to control this behavior.\n",
            "  _warn_prf(average, modifier, msg_start, len(result))\n"
          ],
          "name": "stderr"
        }
      ]
    },
    {
      "cell_type": "code",
      "metadata": {
        "id": "yxhEiwAy7_jU",
        "colab_type": "code",
        "colab": {}
      },
      "source": [
        ""
      ],
      "execution_count": null,
      "outputs": []
    }
  ]
}