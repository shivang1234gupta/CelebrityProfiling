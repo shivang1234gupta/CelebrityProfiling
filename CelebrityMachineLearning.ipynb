{
  "nbformat": 4,
  "nbformat_minor": 0,
  "metadata": {
    "colab": {
      "name": "CelebrityMachineLearning.ipynb",
      "provenance": [],
      "authorship_tag": "ABX9TyNLOPCXg9JiwovF4bMMqIoC",
      "include_colab_link": true
    },
    "kernelspec": {
      "name": "python3",
      "display_name": "Python 3"
    }
  },
  "cells": [
    {
      "cell_type": "markdown",
      "metadata": {
        "id": "view-in-github",
        "colab_type": "text"
      },
      "source": [
        "<a href=\"https://colab.research.google.com/github/shivang1234gupta/CelebrityProfiling/blob/master/CelebrityMachineLearning.ipynb\" target=\"_parent\"><img src=\"https://colab.research.google.com/assets/colab-badge.svg\" alt=\"Open In Colab\"/></a>"
      ]
    },
    {
      "cell_type": "code",
      "metadata": {
        "id": "EHbCgRJ3wcL1",
        "colab_type": "code",
        "colab": {}
      },
      "source": [
        "from google.colab import drive"
      ],
      "execution_count": 1,
      "outputs": []
    },
    {
      "cell_type": "code",
      "metadata": {
        "id": "ldvF2lBLwpAQ",
        "colab_type": "code",
        "colab": {
          "base_uri": "https://localhost:8080/",
          "height": 121
        },
        "outputId": "44d223ad-48c3-4784-9630-3dceaf301e9b"
      },
      "source": [
        "drive.mount('/content/drive')"
      ],
      "execution_count": 2,
      "outputs": [
        {
          "output_type": "stream",
          "text": [
            "Go to this URL in a browser: https://accounts.google.com/o/oauth2/auth?client_id=947318989803-6bn6qk8qdgf4n4g3pfee6491hc0brc4i.apps.googleusercontent.com&redirect_uri=urn%3aietf%3awg%3aoauth%3a2.0%3aoob&scope=email%20https%3a%2f%2fwww.googleapis.com%2fauth%2fdocs.test%20https%3a%2f%2fwww.googleapis.com%2fauth%2fdrive%20https%3a%2f%2fwww.googleapis.com%2fauth%2fdrive.photos.readonly%20https%3a%2f%2fwww.googleapis.com%2fauth%2fpeopleapi.readonly&response_type=code\n",
            "\n",
            "Enter your authorization code:\n",
            "··········\n",
            "Mounted at /content/drive\n"
          ],
          "name": "stdout"
        }
      ]
    },
    {
      "cell_type": "markdown",
      "metadata": {
        "id": "BtVfJPPPtQm0",
        "colab_type": "text"
      },
      "source": [
        "**Preprocessing the data**"
      ]
    },
    {
      "cell_type": "code",
      "metadata": {
        "id": "LlSgCCfRMmCL",
        "colab_type": "code",
        "colab": {}
      },
      "source": [
        "import pandas as pd\n",
        "df=pd.read_csv('drive/My Drive/Random/Dataset.csv')\n",
        "y=pd.read_csv('drive/My Drive/Random/Output.csv')"
      ],
      "execution_count": 390,
      "outputs": []
    },
    {
      "cell_type": "code",
      "metadata": {
        "id": "Y0vx7EjrOQs1",
        "colab_type": "code",
        "colab": {
          "base_uri": "https://localhost:8080/",
          "height": 205
        },
        "outputId": "70dcebd5-94c3-43cf-8c26-1b6ddacddf2a"
      },
      "source": [
        "!pip install git+https://github.com/laxmimerit/preprocess_kgptalkie.git\n",
        "import preprocess_kgptalkie as ps"
      ],
      "execution_count": 4,
      "outputs": [
        {
          "output_type": "stream",
          "text": [
            "Collecting git+https://github.com/laxmimerit/preprocess_kgptalkie.git\n",
            "  Cloning https://github.com/laxmimerit/preprocess_kgptalkie.git to /tmp/pip-req-build-g779fthj\n",
            "  Running command git clone -q https://github.com/laxmimerit/preprocess_kgptalkie.git /tmp/pip-req-build-g779fthj\n",
            "Building wheels for collected packages: preprocess-kgptalkie\n",
            "  Building wheel for preprocess-kgptalkie (setup.py) ... \u001b[?25l\u001b[?25hdone\n",
            "  Created wheel for preprocess-kgptalkie: filename=preprocess_kgptalkie-0.0.5-cp36-none-any.whl size=4517 sha256=b50171fe455ff48d8e95cc319117080dc45cfe29d3939b9b5f47e6f653c494ae\n",
            "  Stored in directory: /tmp/pip-ephem-wheel-cache-t0sy4gu9/wheels/a8/18/22/90afa4bd43247fb9a75b710a4a3fcd94966c022ce9e3c7d0a6\n",
            "Successfully built preprocess-kgptalkie\n",
            "Installing collected packages: preprocess-kgptalkie\n",
            "Successfully installed preprocess-kgptalkie-0.0.5\n"
          ],
          "name": "stdout"
        }
      ]
    },
    {
      "cell_type": "code",
      "metadata": {
        "id": "T07H5BGcM03L",
        "colab_type": "code",
        "colab": {}
      },
      "source": [
        "df['tweet'] = df['tweet'].apply(lambda x: str(x).lower())\n",
        "df['tweet'] = df['tweet'].apply(lambda x: ps.cont_exp(x))\n",
        "\n",
        "df['tweet'] = df['tweet'].apply(lambda x: ps.remove_special_chars(x))\n",
        "df['tweet'] = df['tweet'].apply(lambda x: ps.remove_accented_chars(x))"
      ],
      "execution_count": 5,
      "outputs": []
    },
    {
      "cell_type": "code",
      "metadata": {
        "id": "776uASg2NDgU",
        "colab_type": "code",
        "colab": {}
      },
      "source": [
        "df['tweet'] = df['tweet'].apply(lambda x: ps.remove_html_tags(x))\n"
      ],
      "execution_count": 6,
      "outputs": []
    },
    {
      "cell_type": "code",
      "metadata": {
        "id": "GxW6HKkS58dy",
        "colab_type": "code",
        "colab": {}
      },
      "source": [
        "df['tweet'] = df['tweet'].apply(lambda x: ps.remove_urls(x))"
      ],
      "execution_count": 7,
      "outputs": []
    },
    {
      "cell_type": "code",
      "metadata": {
        "id": "LajDdsEVBnka",
        "colab_type": "code",
        "colab": {
          "base_uri": "https://localhost:8080/",
          "height": 67
        },
        "outputId": "ccafde4f-e8ec-4df3-b82f-057422c4add4"
      },
      "source": [
        "import nltk\n",
        "nltk.download('punkt')"
      ],
      "execution_count": 8,
      "outputs": [
        {
          "output_type": "stream",
          "text": [
            "[nltk_data] Downloading package punkt to /root/nltk_data...\n",
            "[nltk_data]   Unzipping tokenizers/punkt.zip.\n"
          ],
          "name": "stdout"
        },
        {
          "output_type": "execute_result",
          "data": {
            "text/plain": [
              "True"
            ]
          },
          "metadata": {
            "tags": []
          },
          "execution_count": 8
        }
      ]
    },
    {
      "cell_type": "code",
      "metadata": {
        "id": "quv39VRVe7fE",
        "colab_type": "code",
        "colab": {}
      },
      "source": [
        "df['tweet'] = df['tweet'].apply(lambda x: ps.spelling_correction(x))"
      ],
      "execution_count": null,
      "outputs": []
    },
    {
      "cell_type": "code",
      "metadata": {
        "id": "JzQj46Wf6e7S",
        "colab_type": "code",
        "colab": {
          "base_uri": "https://localhost:8080/",
          "height": 218
        },
        "outputId": "c2e50b8d-4ad3-47b7-94de-e7163c0421da"
      },
      "source": [
        "df['tweet'].head"
      ],
      "execution_count": 133,
      "outputs": [
        {
          "output_type": "execute_result",
          "data": {
            "text/plain": [
              "<bound method NDFrame.head of 0        httpstcoi9kvh2in1s rt tmobile justinbieber and...\n",
              "1        not too much drama but its still drama kickin ...\n",
              "2        im happy to announce ill be watching your anno...\n",
              "3        back in the 6 last night thank you toronto htt...\n",
              "4        so excited for the announcement tomorrow from ...\n",
              "                               ...                        \n",
              "14494    loving being home after an amazing trip away w...\n",
              "14495    last training session in rio for the aussie_ro...\n",
              "14496    welcome to sri lanka pmoindia congratulations ...\n",
              "14497    rt jkenney sad to learn that flora macdonald h...\n",
              "14498    wisconsin the choice is clear who represents y...\n",
              "Name: tweet, Length: 14499, dtype: object>"
            ]
          },
          "metadata": {
            "tags": []
          },
          "execution_count": 133
        }
      ]
    },
    {
      "cell_type": "markdown",
      "metadata": {
        "id": "g-a89Xa6tcxZ",
        "colab_type": "text"
      },
      "source": [
        "Using GloVe pretrained word embeddings"
      ]
    },
    {
      "cell_type": "code",
      "metadata": {
        "id": "dM1mvLkf12VK",
        "colab_type": "code",
        "colab": {}
      },
      "source": [
        "glove_vectors = dict()"
      ],
      "execution_count": 13,
      "outputs": []
    },
    {
      "cell_type": "code",
      "metadata": {
        "id": "cloOfqqy2HQn",
        "colab_type": "code",
        "colab": {}
      },
      "source": [
        "import numpy as np\n"
      ],
      "execution_count": 14,
      "outputs": []
    },
    {
      "cell_type": "code",
      "metadata": {
        "id": "RVj4jMHN_4k1",
        "colab_type": "code",
        "colab": {
          "base_uri": "https://localhost:8080/",
          "height": 50
        },
        "outputId": "045ec851-d425-4f22-92e8-63a63b7e06ed"
      },
      "source": [
        "%%time\n",
        "\n",
        "file = open('/content/drive/My Drive/glove.6B.100d.txt', encoding='utf-8')\n",
        "\n",
        "for line in file:\n",
        "    values = line.split()\n",
        "    \n",
        "    word  = values[0]\n",
        "    vectors = np.asarray(values[1:])\n",
        "    glove_vectors[word] = vectors\n",
        "    \n",
        "file.close()"
      ],
      "execution_count": 15,
      "outputs": [
        {
          "output_type": "stream",
          "text": [
            "CPU times: user 14 s, sys: 629 ms, total: 14.7 s\n",
            "Wall time: 16 s\n"
          ],
          "name": "stdout"
        }
      ]
    },
    {
      "cell_type": "code",
      "metadata": {
        "id": "6jjQTLkj1_Vy",
        "colab_type": "code",
        "colab": {}
      },
      "source": [
        "glove_vectors"
      ],
      "execution_count": null,
      "outputs": []
    },
    {
      "cell_type": "code",
      "metadata": {
        "id": "YTJREwPU2RHg",
        "colab_type": "code",
        "colab": {
          "base_uri": "https://localhost:8080/",
          "height": 34
        },
        "outputId": "185b0be4-6745-4d03-d534-5681646a5ba5"
      },
      "source": [
        "len(glove_vectors)"
      ],
      "execution_count": 16,
      "outputs": [
        {
          "output_type": "execute_result",
          "data": {
            "text/plain": [
              "400000"
            ]
          },
          "metadata": {
            "tags": []
          },
          "execution_count": 16
        }
      ]
    },
    {
      "cell_type": "code",
      "metadata": {
        "id": "SniyGk1G3OYG",
        "colab_type": "code",
        "colab": {}
      },
      "source": [
        "vec_shape=100"
      ],
      "execution_count": 17,
      "outputs": []
    },
    {
      "cell_type": "code",
      "metadata": {
        "id": "Qis9MPku2cWv",
        "colab_type": "code",
        "colab": {}
      },
      "source": [
        "def get_vec(x):\n",
        "    arr = np.zeros(vec_shape)\n",
        "    text = str(x).split()\n",
        "    \n",
        "    for t in text:\n",
        "        try:\n",
        "            vec = glove_vectors.get(t).astype(float)\n",
        "            arr = arr + vec\n",
        "        except:\n",
        "            pass\n",
        "        \n",
        "    arr = arr.reshape(1, -1)[0]\n",
        "    return arr/len(text)"
      ],
      "execution_count": 18,
      "outputs": []
    },
    {
      "cell_type": "markdown",
      "metadata": {
        "id": "O3emkSFft0L0",
        "colab_type": "text"
      },
      "source": [
        "Finally word embedded to vectors"
      ]
    },
    {
      "cell_type": "code",
      "metadata": {
        "id": "rDboaMQf20JH",
        "colab_type": "code",
        "colab": {
          "base_uri": "https://localhost:8080/",
          "height": 50
        },
        "outputId": "a3b5956e-6389-4010-c2dd-c4b07499461d"
      },
      "source": [
        "%%time\n",
        "df['vec'] = df['tweet'].apply(lambda x: get_vec(x))"
      ],
      "execution_count": null,
      "outputs": [
        {
          "output_type": "stream",
          "text": [
            "CPU times: user 31min 22s, sys: 1.61 s, total: 31min 23s\n",
            "Wall time: 31min 25s\n"
          ],
          "name": "stdout"
        }
      ]
    },
    {
      "cell_type": "code",
      "metadata": {
        "id": "-hGlT9I83AZT",
        "colab_type": "code",
        "colab": {}
      },
      "source": [
        "df['vec']\n",
        "df.fillna(value=0)\n",
        "df['vec'].isnull().sum()"
      ],
      "execution_count": null,
      "outputs": []
    },
    {
      "cell_type": "code",
      "metadata": {
        "id": "3OHATCP4ARiS",
        "colab_type": "code",
        "colab": {
          "base_uri": "https://localhost:8080/",
          "height": 70
        },
        "outputId": "36570534-90fd-48ff-f364-44488019dd06"
      },
      "source": [
        "from sklearn.externals import joblib"
      ],
      "execution_count": 20,
      "outputs": [
        {
          "output_type": "stream",
          "text": [
            "/usr/local/lib/python3.6/dist-packages/sklearn/externals/joblib/__init__.py:15: FutureWarning: sklearn.externals.joblib is deprecated in 0.21 and will be removed in 0.23. Please import this functionality directly from joblib, which can be installed with: pip install joblib. If this warning is raised when loading pickled models, you may need to re-serialize those models with scikit-learn 0.21+.\n",
            "  warnings.warn(msg, category=FutureWarning)\n"
          ],
          "name": "stderr"
        }
      ]
    },
    {
      "cell_type": "code",
      "metadata": {
        "id": "nEooiXuq-1zj",
        "colab_type": "code",
        "colab": {
          "base_uri": "https://localhost:8080/",
          "height": 34
        },
        "outputId": "29b114ce-66e2-4eae-9855-9c248efd84ca"
      },
      "source": [
        "joblib.dump(df['vec'], 'drive/My Drive/Random/preprocess.pkl') "
      ],
      "execution_count": null,
      "outputs": [
        {
          "output_type": "execute_result",
          "data": {
            "text/plain": [
              "['drive/My Drive/Random/preprocess.pkl']"
            ]
          },
          "metadata": {
            "tags": []
          },
          "execution_count": 151
        }
      ]
    },
    {
      "cell_type": "markdown",
      "metadata": {
        "id": "x5Kbaa2qw_Yb",
        "colab_type": "text"
      },
      "source": [
        "**Gender Classification of celebrity**"
      ]
    },
    {
      "cell_type": "code",
      "metadata": {
        "id": "l7s230S3AMdW",
        "colab_type": "code",
        "colab": {}
      },
      "source": [
        "X=joblib.load('drive/My Drive/Random/preprocess.pkl') "
      ],
      "execution_count": 57,
      "outputs": []
    },
    {
      "cell_type": "code",
      "metadata": {
        "id": "PBAV2OMFF0id",
        "colab_type": "code",
        "colab": {}
      },
      "source": [
        "vec_shape=100\n",
        "X = np.concatenate(X, axis = 0).reshape(-1, vec_shape)"
      ],
      "execution_count": 58,
      "outputs": []
    },
    {
      "cell_type": "code",
      "metadata": {
        "id": "q3MI0RWFLL_x",
        "colab_type": "code",
        "colab": {
          "base_uri": "https://localhost:8080/",
          "height": 34
        },
        "outputId": "1bf8d84e-8dc5-43bc-f647-9eb76b313ad5"
      },
      "source": [
        "type(X)"
      ],
      "execution_count": 59,
      "outputs": [
        {
          "output_type": "execute_result",
          "data": {
            "text/plain": [
              "numpy.ndarray"
            ]
          },
          "metadata": {
            "tags": []
          },
          "execution_count": 59
        }
      ]
    },
    {
      "cell_type": "code",
      "metadata": {
        "id": "W_Uhzo4vBTBA",
        "colab_type": "code",
        "colab": {
          "base_uri": "https://localhost:8080/",
          "height": 34
        },
        "outputId": "c3c566d4-9638-4eba-d97a-a0b927a14ac1"
      },
      "source": [
        "from sklearn.preprocessing import LabelEncoder\n",
        "le = LabelEncoder()\n",
        "le.fit(y['gen'])"
      ],
      "execution_count": 402,
      "outputs": [
        {
          "output_type": "execute_result",
          "data": {
            "text/plain": [
              "LabelEncoder()"
            ]
          },
          "metadata": {
            "tags": []
          },
          "execution_count": 402
        }
      ]
    },
    {
      "cell_type": "code",
      "metadata": {
        "id": "HVlBobS8Z0NW",
        "colab_type": "code",
        "colab": {
          "base_uri": "https://localhost:8080/",
          "height": 34
        },
        "outputId": "0a505235-f496-4a19-d7f0-983bff9b3c5c"
      },
      "source": [
        "le_name_mapping = dict(zip(le.classes_, le.transform(le.classes_)))\n",
        "print(le_name_mapping)"
      ],
      "execution_count": 403,
      "outputs": [
        {
          "output_type": "stream",
          "text": [
            "{'female': 0, 'male': 1, 'nonbinary': 2}\n"
          ],
          "name": "stdout"
        }
      ]
    },
    {
      "cell_type": "code",
      "metadata": {
        "id": "wHlx7xJGBoJx",
        "colab_type": "code",
        "colab": {}
      },
      "source": [
        "import numpy as np\n",
        "X_final=X\n",
        "y_final=y['gen'].to_numpy()"
      ],
      "execution_count": 404,
      "outputs": []
    },
    {
      "cell_type": "code",
      "metadata": {
        "id": "KBNv43o0gZL8",
        "colab_type": "code",
        "colab": {
          "base_uri": "https://localhost:8080/",
          "height": 34
        },
        "outputId": "6c1909ad-e319-4cb5-f57d-9bf28a18a212"
      },
      "source": [
        "np.all(np.isfinite(X_final))"
      ],
      "execution_count": 405,
      "outputs": [
        {
          "output_type": "execute_result",
          "data": {
            "text/plain": [
              "True"
            ]
          },
          "metadata": {
            "tags": []
          },
          "execution_count": 405
        }
      ]
    },
    {
      "cell_type": "code",
      "metadata": {
        "id": "PT35LL5ogbt1",
        "colab_type": "code",
        "colab": {
          "base_uri": "https://localhost:8080/",
          "height": 34
        },
        "outputId": "2924b8e3-88e7-4598-a73e-116d4e9bde66"
      },
      "source": [
        "np.any(np.isnan(X_final))"
      ],
      "execution_count": 406,
      "outputs": [
        {
          "output_type": "execute_result",
          "data": {
            "text/plain": [
              "False"
            ]
          },
          "metadata": {
            "tags": []
          },
          "execution_count": 406
        }
      ]
    },
    {
      "cell_type": "code",
      "metadata": {
        "id": "ttOIJ0j0Bsvy",
        "colab_type": "code",
        "colab": {
          "base_uri": "https://localhost:8080/",
          "height": 34
        },
        "outputId": "8a044afe-0b78-4222-eb7b-ffe5437cf466"
      },
      "source": [
        "X_final.shape\n",
        "#np.any(np.isnan(X_final))"
      ],
      "execution_count": 407,
      "outputs": [
        {
          "output_type": "execute_result",
          "data": {
            "text/plain": [
              "(14499, 100)"
            ]
          },
          "metadata": {
            "tags": []
          },
          "execution_count": 407
        }
      ]
    },
    {
      "cell_type": "code",
      "metadata": {
        "id": "NJuqkOwBByh7",
        "colab_type": "code",
        "colab": {
          "base_uri": "https://localhost:8080/",
          "height": 34
        },
        "outputId": "7d6be5a3-f8ff-481d-9fc2-834f7f190fc6"
      },
      "source": [
        "X_final[0].shape"
      ],
      "execution_count": 408,
      "outputs": [
        {
          "output_type": "execute_result",
          "data": {
            "text/plain": [
              "(100,)"
            ]
          },
          "metadata": {
            "tags": []
          },
          "execution_count": 408
        }
      ]
    },
    {
      "cell_type": "code",
      "metadata": {
        "id": "aNmUEL0uf4fL",
        "colab_type": "code",
        "colab": {}
      },
      "source": [
        "from numpy import *\n",
        "where_are_NaNs = isnan(X_final)\n",
        "X_final[where_are_NaNs] = 0"
      ],
      "execution_count": 409,
      "outputs": []
    },
    {
      "cell_type": "code",
      "metadata": {
        "id": "dayv9fOZhA1q",
        "colab_type": "code",
        "colab": {}
      },
      "source": [
        "X_final[X_final == inf] = 0"
      ],
      "execution_count": 410,
      "outputs": []
    },
    {
      "cell_type": "code",
      "metadata": {
        "id": "_z-ahOZ7EbXd",
        "colab_type": "code",
        "colab": {
          "base_uri": "https://localhost:8080/",
          "height": 34
        },
        "outputId": "5df65264-46f7-4a24-c738-ecd3e639a611"
      },
      "source": [
        "np.any(np.isnan(X_final))"
      ],
      "execution_count": 411,
      "outputs": [
        {
          "output_type": "execute_result",
          "data": {
            "text/plain": [
              "False"
            ]
          },
          "metadata": {
            "tags": []
          },
          "execution_count": 411
        }
      ]
    },
    {
      "cell_type": "code",
      "metadata": {
        "id": "O_z_bFWqGv3G",
        "colab_type": "code",
        "colab": {
          "base_uri": "https://localhost:8080/",
          "height": 34
        },
        "outputId": "10cd6364-8c0f-48b6-c36c-e22d3efa1969"
      },
      "source": [
        "np.all(np.isfinite(X_final))"
      ],
      "execution_count": 412,
      "outputs": [
        {
          "output_type": "execute_result",
          "data": {
            "text/plain": [
              "True"
            ]
          },
          "metadata": {
            "tags": []
          },
          "execution_count": 412
        }
      ]
    },
    {
      "cell_type": "code",
      "metadata": {
        "id": "LJZGiJuEB1oN",
        "colab_type": "code",
        "colab": {}
      },
      "source": [
        "from sklearn.model_selection import train_test_split\n",
        "X_train,X_test,y_train,y_test=train_test_split(X_final,y_final,random_state=40,test_size=.2)"
      ],
      "execution_count": 413,
      "outputs": []
    },
    {
      "cell_type": "code",
      "metadata": {
        "id": "KfYJBqU4CBae",
        "colab_type": "code",
        "colab": {}
      },
      "source": [
        "from sklearn.linear_model import LogisticRegression\n",
        "\n",
        "from sklearn.metrics import classification_report, confusion_matrix\n",
        "clf = LogisticRegression(solver = 'liblinear', multi_class='auto')\n"
      ],
      "execution_count": 414,
      "outputs": []
    },
    {
      "cell_type": "code",
      "metadata": {
        "id": "Ni7ec_ZDCG2u",
        "colab_type": "code",
        "colab": {
          "base_uri": "https://localhost:8080/",
          "height": 101
        },
        "outputId": "dc7498c5-c5f0-41fa-ad28-609a883c36a9"
      },
      "source": [
        "clf.fit(X_train, y_train)"
      ],
      "execution_count": 415,
      "outputs": [
        {
          "output_type": "execute_result",
          "data": {
            "text/plain": [
              "LogisticRegression(C=1.0, class_weight=None, dual=False, fit_intercept=True,\n",
              "                   intercept_scaling=1, l1_ratio=None, max_iter=100,\n",
              "                   multi_class='auto', n_jobs=None, penalty='l2',\n",
              "                   random_state=None, solver='liblinear', tol=0.0001, verbose=0,\n",
              "                   warm_start=False)"
            ]
          },
          "metadata": {
            "tags": []
          },
          "execution_count": 415
        }
      ]
    },
    {
      "cell_type": "code",
      "metadata": {
        "id": "IONLaI7QCSpd",
        "colab_type": "code",
        "colab": {}
      },
      "source": [
        "y_pred = clf.predict(X_test)"
      ],
      "execution_count": 416,
      "outputs": []
    },
    {
      "cell_type": "code",
      "metadata": {
        "id": "Xnhb6O9Gr-G6",
        "colab_type": "code",
        "colab": {
          "base_uri": "https://localhost:8080/",
          "height": 238
        },
        "outputId": "0f61bc84-04e0-47d1-b2ad-6996981d1091"
      },
      "source": [
        "print(classification_report(y_test, y_pred))"
      ],
      "execution_count": 417,
      "outputs": [
        {
          "output_type": "stream",
          "text": [
            "              precision    recall  f1-score   support\n",
            "\n",
            "      female       0.80      0.52      0.63       804\n",
            "        male       0.84      0.95      0.89      2093\n",
            "   nonbinary       0.00      0.00      0.00         3\n",
            "\n",
            "    accuracy                           0.83      2900\n",
            "   macro avg       0.54      0.49      0.51      2900\n",
            "weighted avg       0.82      0.83      0.82      2900\n",
            "\n"
          ],
          "name": "stdout"
        },
        {
          "output_type": "stream",
          "text": [
            "/usr/local/lib/python3.6/dist-packages/sklearn/metrics/_classification.py:1272: UndefinedMetricWarning: Precision and F-score are ill-defined and being set to 0.0 in labels with no predicted samples. Use `zero_division` parameter to control this behavior.\n",
            "  _warn_prf(average, modifier, msg_start, len(result))\n"
          ],
          "name": "stderr"
        }
      ]
    },
    {
      "cell_type": "code",
      "metadata": {
        "id": "3UjDlR5DsDK_",
        "colab_type": "code",
        "colab": {
          "base_uri": "https://localhost:8080/",
          "height": 67
        },
        "outputId": "3da92ba6-f465-425d-a2d5-848d158c26dd"
      },
      "source": [
        "print(confusion_matrix(y_test, y_pred))"
      ],
      "execution_count": 418,
      "outputs": [
        {
          "output_type": "stream",
          "text": [
            "[[ 415  389    0]\n",
            " [ 103 1990    0]\n",
            " [   2    1    0]]\n"
          ],
          "name": "stdout"
        }
      ]
    },
    {
      "cell_type": "code",
      "metadata": {
        "id": "WCEdfWtcsKaG",
        "colab_type": "code",
        "colab": {}
      },
      "source": [
        "from sklearn.svm import LinearSVC"
      ],
      "execution_count": 419,
      "outputs": []
    },
    {
      "cell_type": "code",
      "metadata": {
        "id": "CO4MBmI1sPPA",
        "colab_type": "code",
        "colab": {
          "base_uri": "https://localhost:8080/",
          "height": 84
        },
        "outputId": "172eb686-9c37-44ad-c325-2adf845d905e"
      },
      "source": [
        "clf = LinearSVC(C=0.75)\n",
        "clf.fit(X_train, y_train)"
      ],
      "execution_count": 420,
      "outputs": [
        {
          "output_type": "execute_result",
          "data": {
            "text/plain": [
              "LinearSVC(C=0.75, class_weight=None, dual=True, fit_intercept=True,\n",
              "          intercept_scaling=1, loss='squared_hinge', max_iter=1000,\n",
              "          multi_class='ovr', penalty='l2', random_state=None, tol=0.0001,\n",
              "          verbose=0)"
            ]
          },
          "metadata": {
            "tags": []
          },
          "execution_count": 420
        }
      ]
    },
    {
      "cell_type": "code",
      "metadata": {
        "id": "fkA_cPezsRw0",
        "colab_type": "code",
        "colab": {}
      },
      "source": [
        "y_pred = clf.predict(X_test)"
      ],
      "execution_count": 427,
      "outputs": []
    },
    {
      "cell_type": "code",
      "metadata": {
        "id": "Z3ogKLs2sVfR",
        "colab_type": "code",
        "colab": {
          "base_uri": "https://localhost:8080/",
          "height": 238
        },
        "outputId": "2c1fd980-0f36-454a-84f3-3669030c8f64"
      },
      "source": [
        "print(classification_report(y_test, y_pred))"
      ],
      "execution_count": 422,
      "outputs": [
        {
          "output_type": "stream",
          "text": [
            "              precision    recall  f1-score   support\n",
            "\n",
            "      female       0.79      0.61      0.69       804\n",
            "        male       0.86      0.94      0.90      2093\n",
            "   nonbinary       0.00      0.00      0.00         3\n",
            "\n",
            "    accuracy                           0.85      2900\n",
            "   macro avg       0.55      0.52      0.53      2900\n",
            "weighted avg       0.84      0.85      0.84      2900\n",
            "\n"
          ],
          "name": "stdout"
        },
        {
          "output_type": "stream",
          "text": [
            "/usr/local/lib/python3.6/dist-packages/sklearn/metrics/_classification.py:1272: UndefinedMetricWarning: Precision and F-score are ill-defined and being set to 0.0 in labels with no predicted samples. Use `zero_division` parameter to control this behavior.\n",
            "  _warn_prf(average, modifier, msg_start, len(result))\n"
          ],
          "name": "stderr"
        }
      ]
    },
    {
      "cell_type": "markdown",
      "metadata": {
        "id": "BcETIRFlbbi0",
        "colab_type": "text"
      },
      "source": [
        "Train data results"
      ]
    },
    {
      "cell_type": "code",
      "metadata": {
        "id": "gq66yTnzWg_Q",
        "colab_type": "code",
        "colab": {}
      },
      "source": [
        "y_pred = clf.predict(X_train)"
      ],
      "execution_count": 423,
      "outputs": []
    },
    {
      "cell_type": "code",
      "metadata": {
        "id": "3_oVwRL2Wn8b",
        "colab_type": "code",
        "colab": {
          "base_uri": "https://localhost:8080/",
          "height": 238
        },
        "outputId": "4c581c69-adb8-49f2-aba5-a77ab115844c"
      },
      "source": [
        "print(classification_report(y_train, y_pred))"
      ],
      "execution_count": 424,
      "outputs": [
        {
          "output_type": "stream",
          "text": [
            "/usr/local/lib/python3.6/dist-packages/sklearn/metrics/_classification.py:1272: UndefinedMetricWarning: Precision and F-score are ill-defined and being set to 0.0 in labels with no predicted samples. Use `zero_division` parameter to control this behavior.\n",
            "  _warn_prf(average, modifier, msg_start, len(result))\n"
          ],
          "name": "stderr"
        },
        {
          "output_type": "stream",
          "text": [
            "              precision    recall  f1-score   support\n",
            "\n",
            "      female       0.79      0.61      0.69      3268\n",
            "        male       0.86      0.94      0.90      8316\n",
            "   nonbinary       0.00      0.00      0.00        15\n",
            "\n",
            "    accuracy                           0.84     11599\n",
            "   macro avg       0.55      0.52      0.53     11599\n",
            "weighted avg       0.84      0.84      0.84     11599\n",
            "\n"
          ],
          "name": "stdout"
        }
      ]
    },
    {
      "cell_type": "code",
      "metadata": {
        "id": "URBO0jYANfp1",
        "colab_type": "code",
        "colab": {
          "base_uri": "https://localhost:8080/",
          "height": 34
        },
        "outputId": "06b732bc-d359-4619-cd6d-6c68bd05d05c"
      },
      "source": [
        "from sklearn.metrics import f1_score, accuracy_score\n",
        "accuracy_score(y_test,y_pred)"
      ],
      "execution_count": 428,
      "outputs": [
        {
          "output_type": "execute_result",
          "data": {
            "text/plain": [
              "0.8458620689655172"
            ]
          },
          "metadata": {
            "tags": []
          },
          "execution_count": 428
        }
      ]
    },
    {
      "cell_type": "markdown",
      "metadata": {
        "id": "2clPDz-UNhvY",
        "colab_type": "text"
      },
      "source": [
        "So we can see that for gender Linear SVM produces best results and an accuracy of about test accuracy of 85% and train accuracy of 84%"
      ]
    },
    {
      "cell_type": "markdown",
      "metadata": {
        "id": "8QvGlCp5xRg2",
        "colab_type": "text"
      },
      "source": [
        "**Fame Classification**"
      ]
    },
    {
      "cell_type": "code",
      "metadata": {
        "id": "iXRzUbnUsXiJ",
        "colab_type": "code",
        "colab": {
          "base_uri": "https://localhost:8080/",
          "height": 34
        },
        "outputId": "596323af-409c-4393-f8a7-5a3637750d5c"
      },
      "source": [
        "from sklearn.preprocessing import LabelEncoder\n",
        "le = LabelEncoder()\n",
        "le.fit(y['fame'])"
      ],
      "execution_count": 429,
      "outputs": [
        {
          "output_type": "execute_result",
          "data": {
            "text/plain": [
              "LabelEncoder()"
            ]
          },
          "metadata": {
            "tags": []
          },
          "execution_count": 429
        }
      ]
    },
    {
      "cell_type": "code",
      "metadata": {
        "id": "rgcsmjShZnoU",
        "colab_type": "code",
        "colab": {
          "base_uri": "https://localhost:8080/",
          "height": 34
        },
        "outputId": "e0fbcf82-4b1e-49dd-ccad-f24238b2e76d"
      },
      "source": [
        "le_name_mapping = dict(zip(le.classes_, le.transform(le.classes_)))\n",
        "print(le_name_mapping)"
      ],
      "execution_count": 430,
      "outputs": [
        {
          "output_type": "stream",
          "text": [
            "{'rising': 0, 'star': 1, 'superstar': 2}\n"
          ],
          "name": "stdout"
        }
      ]
    },
    {
      "cell_type": "code",
      "metadata": {
        "id": "2Rdg7DKuxZXc",
        "colab_type": "code",
        "colab": {}
      },
      "source": [
        "import numpy as np\n",
        "X_final=X\n",
        "y_final=y['fame'].to_numpy()"
      ],
      "execution_count": 431,
      "outputs": []
    },
    {
      "cell_type": "code",
      "metadata": {
        "id": "od2Ab27TxcrV",
        "colab_type": "code",
        "colab": {
          "base_uri": "https://localhost:8080/",
          "height": 34
        },
        "outputId": "11b37b22-d4fa-43a8-8fcf-bfa1c1bb9fae"
      },
      "source": [
        "X_final.shape"
      ],
      "execution_count": 432,
      "outputs": [
        {
          "output_type": "execute_result",
          "data": {
            "text/plain": [
              "(14499, 100)"
            ]
          },
          "metadata": {
            "tags": []
          },
          "execution_count": 432
        }
      ]
    },
    {
      "cell_type": "code",
      "metadata": {
        "id": "TxYrYv2ox1Hf",
        "colab_type": "code",
        "colab": {}
      },
      "source": [
        "from numpy import *\n",
        "where_are_NaNs = isnan(X_final)\n",
        "X_final[where_are_NaNs] = 0"
      ],
      "execution_count": 433,
      "outputs": []
    },
    {
      "cell_type": "code",
      "metadata": {
        "id": "JSr0w3Qyx6jR",
        "colab_type": "code",
        "colab": {}
      },
      "source": [
        "from sklearn.model_selection import train_test_split\n",
        "X_train,X_test,y_train,y_test=train_test_split(X_final,y_final,random_state=40,test_size=.2)"
      ],
      "execution_count": 434,
      "outputs": []
    },
    {
      "cell_type": "code",
      "metadata": {
        "id": "-C7fv51mx_0q",
        "colab_type": "code",
        "colab": {}
      },
      "source": [
        "from sklearn.linear_model import LogisticRegression\n",
        "\n",
        "from sklearn.metrics import classification_report, confusion_matrix\n",
        "clf = LogisticRegression(solver = 'newton-cg', multi_class='multinomial')\n"
      ],
      "execution_count": 435,
      "outputs": []
    },
    {
      "cell_type": "code",
      "metadata": {
        "id": "q8Dyb9YB2MA5",
        "colab_type": "code",
        "colab": {
          "base_uri": "https://localhost:8080/",
          "height": 101
        },
        "outputId": "d382081f-cee7-402c-93d0-a65a0284cf35"
      },
      "source": [
        "clf.fit(X_train, y_train)"
      ],
      "execution_count": 436,
      "outputs": [
        {
          "output_type": "execute_result",
          "data": {
            "text/plain": [
              "LogisticRegression(C=1.0, class_weight=None, dual=False, fit_intercept=True,\n",
              "                   intercept_scaling=1, l1_ratio=None, max_iter=100,\n",
              "                   multi_class='multinomial', n_jobs=None, penalty='l2',\n",
              "                   random_state=None, solver='newton-cg', tol=0.0001, verbose=0,\n",
              "                   warm_start=False)"
            ]
          },
          "metadata": {
            "tags": []
          },
          "execution_count": 436
        }
      ]
    },
    {
      "cell_type": "code",
      "metadata": {
        "id": "hgLePEFYyDs2",
        "colab_type": "code",
        "colab": {}
      },
      "source": [
        "y_pred = clf.predict(X_test)"
      ],
      "execution_count": 437,
      "outputs": []
    },
    {
      "cell_type": "code",
      "metadata": {
        "id": "x_5a5f7G2C1K",
        "colab_type": "code",
        "colab": {
          "base_uri": "https://localhost:8080/",
          "height": 238
        },
        "outputId": "6f17f4d6-36ae-487d-8fa9-f84d5719a00d"
      },
      "source": [
        "print(classification_report(y_test, y_pred))"
      ],
      "execution_count": 438,
      "outputs": [
        {
          "output_type": "stream",
          "text": [
            "              precision    recall  f1-score   support\n",
            "\n",
            "      rising       0.00      0.00      0.00       139\n",
            "        star       0.76      0.99      0.86      2175\n",
            "   superstar       0.56      0.08      0.13       586\n",
            "\n",
            "    accuracy                           0.75      2900\n",
            "   macro avg       0.44      0.35      0.33      2900\n",
            "weighted avg       0.68      0.75      0.67      2900\n",
            "\n"
          ],
          "name": "stdout"
        },
        {
          "output_type": "stream",
          "text": [
            "/usr/local/lib/python3.6/dist-packages/sklearn/metrics/_classification.py:1272: UndefinedMetricWarning: Precision and F-score are ill-defined and being set to 0.0 in labels with no predicted samples. Use `zero_division` parameter to control this behavior.\n",
            "  _warn_prf(average, modifier, msg_start, len(result))\n"
          ],
          "name": "stderr"
        }
      ]
    },
    {
      "cell_type": "markdown",
      "metadata": {
        "id": "Yb3t2F4obWFb",
        "colab_type": "text"
      },
      "source": [
        "Train data results"
      ]
    },
    {
      "cell_type": "code",
      "metadata": {
        "id": "dUWkEwL-W7AP",
        "colab_type": "code",
        "colab": {
          "base_uri": "https://localhost:8080/",
          "height": 185
        },
        "outputId": "b8771316-b83c-4a83-d5a7-c4b25a15ff23"
      },
      "source": [
        "y_pred = clf.predict(X_train)\n",
        "print(classification_report(y_train, y_pred))"
      ],
      "execution_count": 439,
      "outputs": [
        {
          "output_type": "stream",
          "text": [
            "              precision    recall  f1-score   support\n",
            "\n",
            "      rising       0.60      0.01      0.01       469\n",
            "        star       0.76      0.99      0.86      8715\n",
            "   superstar       0.56      0.07      0.12      2415\n",
            "\n",
            "    accuracy                           0.75     11599\n",
            "   macro avg       0.64      0.35      0.33     11599\n",
            "weighted avg       0.71      0.75      0.67     11599\n",
            "\n"
          ],
          "name": "stdout"
        }
      ]
    },
    {
      "cell_type": "code",
      "metadata": {
        "id": "8nEZ2RsQ2irw",
        "colab_type": "code",
        "colab": {}
      },
      "source": [
        "from sklearn.svm import LinearSVC"
      ],
      "execution_count": 440,
      "outputs": []
    },
    {
      "cell_type": "code",
      "metadata": {
        "id": "QNLY1Hbz5o2Y",
        "colab_type": "code",
        "colab": {}
      },
      "source": [
        "from sklearn.svm import SVC"
      ],
      "execution_count": 441,
      "outputs": []
    },
    {
      "cell_type": "code",
      "metadata": {
        "id": "ZepHLxR12omo",
        "colab_type": "code",
        "colab": {
          "base_uri": "https://localhost:8080/",
          "height": 84
        },
        "outputId": "3229cb0d-8602-4ee0-b734-4ce64fc9f449"
      },
      "source": [
        "clf = LinearSVC(C=0.5)\n",
        "clf.fit(X_train, y_train)"
      ],
      "execution_count": 442,
      "outputs": [
        {
          "output_type": "execute_result",
          "data": {
            "text/plain": [
              "LinearSVC(C=0.5, class_weight=None, dual=True, fit_intercept=True,\n",
              "          intercept_scaling=1, loss='squared_hinge', max_iter=1000,\n",
              "          multi_class='ovr', penalty='l2', random_state=None, tol=0.0001,\n",
              "          verbose=0)"
            ]
          },
          "metadata": {
            "tags": []
          },
          "execution_count": 442
        }
      ]
    },
    {
      "cell_type": "code",
      "metadata": {
        "id": "VO3COJNF2tYj",
        "colab_type": "code",
        "colab": {}
      },
      "source": [
        "y_pred = clf.predict(X_test)"
      ],
      "execution_count": 443,
      "outputs": []
    },
    {
      "cell_type": "code",
      "metadata": {
        "id": "bU6YIcPI21jo",
        "colab_type": "code",
        "colab": {
          "base_uri": "https://localhost:8080/",
          "height": 185
        },
        "outputId": "e06af421-c4da-4620-f852-5ebb1ae8d735"
      },
      "source": [
        "print(classification_report(y_test, y_pred))"
      ],
      "execution_count": 444,
      "outputs": [
        {
          "output_type": "stream",
          "text": [
            "              precision    recall  f1-score   support\n",
            "\n",
            "      rising       0.00      0.00      0.00       139\n",
            "        star       0.76      0.99      0.86      2175\n",
            "   superstar       0.52      0.05      0.09       586\n",
            "\n",
            "    accuracy                           0.75      2900\n",
            "   macro avg       0.42      0.35      0.32      2900\n",
            "weighted avg       0.67      0.75      0.66      2900\n",
            "\n"
          ],
          "name": "stdout"
        }
      ]
    },
    {
      "cell_type": "code",
      "metadata": {
        "id": "nb0pwUAS25qM",
        "colab_type": "code",
        "colab": {
          "base_uri": "https://localhost:8080/",
          "height": 67
        },
        "outputId": "c6a419d1-3e8c-4516-fdb3-c2ea0ceb4da9"
      },
      "source": [
        "print(confusion_matrix(y_test, y_pred))"
      ],
      "execution_count": 445,
      "outputs": [
        {
          "output_type": "stream",
          "text": [
            "[[   0  138    1]\n",
            " [   1 2148   26]\n",
            " [   0  557   29]]\n"
          ],
          "name": "stdout"
        }
      ]
    },
    {
      "cell_type": "code",
      "metadata": {
        "id": "fPbeG_Jh5_pi",
        "colab_type": "code",
        "colab": {
          "base_uri": "https://localhost:8080/",
          "height": 84
        },
        "outputId": "e3961021-c15b-438e-ed88-9b9e7a5bf405"
      },
      "source": [
        "classifier = SVC(kernel = 'rbf', random_state = 0)\n",
        "classifier.fit(X_train, y_train)"
      ],
      "execution_count": 446,
      "outputs": [
        {
          "output_type": "execute_result",
          "data": {
            "text/plain": [
              "SVC(C=1.0, break_ties=False, cache_size=200, class_weight=None, coef0=0.0,\n",
              "    decision_function_shape='ovr', degree=3, gamma='scale', kernel='rbf',\n",
              "    max_iter=-1, probability=False, random_state=0, shrinking=True, tol=0.001,\n",
              "    verbose=False)"
            ]
          },
          "metadata": {
            "tags": []
          },
          "execution_count": 446
        }
      ]
    },
    {
      "cell_type": "code",
      "metadata": {
        "id": "iTa9NoS76QzD",
        "colab_type": "code",
        "colab": {}
      },
      "source": [
        "y_pred = clf.predict(X_test)"
      ],
      "execution_count": 447,
      "outputs": []
    },
    {
      "cell_type": "code",
      "metadata": {
        "id": "qITY6Lb16TU0",
        "colab_type": "code",
        "colab": {
          "base_uri": "https://localhost:8080/",
          "height": 185
        },
        "outputId": "d2df4d44-ad54-4bb2-84da-3eecd9693ca6"
      },
      "source": [
        "print(classification_report(y_test, y_pred))"
      ],
      "execution_count": 448,
      "outputs": [
        {
          "output_type": "stream",
          "text": [
            "              precision    recall  f1-score   support\n",
            "\n",
            "      rising       0.00      0.00      0.00       139\n",
            "        star       0.76      0.99      0.86      2175\n",
            "   superstar       0.52      0.05      0.09       586\n",
            "\n",
            "    accuracy                           0.75      2900\n",
            "   macro avg       0.42      0.35      0.32      2900\n",
            "weighted avg       0.67      0.75      0.66      2900\n",
            "\n"
          ],
          "name": "stdout"
        }
      ]
    },
    {
      "cell_type": "code",
      "metadata": {
        "id": "Cu23RK4RL0h5",
        "colab_type": "code",
        "colab": {
          "base_uri": "https://localhost:8080/",
          "height": 34
        },
        "outputId": "3b11f5d6-24c3-4f7a-a990-133dada6b374"
      },
      "source": [
        "from sklearn.metrics import f1_score, accuracy_score\n",
        "accuracy_score(y_test,y_pred)"
      ],
      "execution_count": 449,
      "outputs": [
        {
          "output_type": "execute_result",
          "data": {
            "text/plain": [
              "0.7506896551724138"
            ]
          },
          "metadata": {
            "tags": []
          },
          "execution_count": 449
        }
      ]
    },
    {
      "cell_type": "markdown",
      "metadata": {
        "id": "6HqD_6IvMo8N",
        "colab_type": "text"
      },
      "source": [
        "From above we can see that Logistic regression produced best results(comparing f1-score) and an test accuracy of about 75.41% (using logistic regression) and train accuracy of about 75%"
      ]
    },
    {
      "cell_type": "markdown",
      "metadata": {
        "id": "xIaVT29j4Cjw",
        "colab_type": "text"
      },
      "source": [
        "**Occupation classification**"
      ]
    },
    {
      "cell_type": "code",
      "metadata": {
        "id": "GHKBIMW73Xgt",
        "colab_type": "code",
        "colab": {
          "base_uri": "https://localhost:8080/",
          "height": 34
        },
        "outputId": "e1d93ea1-1f6a-4ac5-be1d-11718e9eb6c4"
      },
      "source": [
        "from sklearn.preprocessing import LabelEncoder\n",
        "le = LabelEncoder()\n",
        "le.fit(y['occ'])"
      ],
      "execution_count": 450,
      "outputs": [
        {
          "output_type": "execute_result",
          "data": {
            "text/plain": [
              "LabelEncoder()"
            ]
          },
          "metadata": {
            "tags": []
          },
          "execution_count": 450
        }
      ]
    },
    {
      "cell_type": "code",
      "metadata": {
        "id": "PtVofjiXYcDP",
        "colab_type": "code",
        "colab": {
          "base_uri": "https://localhost:8080/",
          "height": 34
        },
        "outputId": "cbc7f1e2-51e9-476f-b347-114105b916cb"
      },
      "source": [
        "le_name_mapping = dict(zip(le.classes_, le.transform(le.classes_)))\n",
        "print(le_name_mapping)"
      ],
      "execution_count": 451,
      "outputs": [
        {
          "output_type": "stream",
          "text": [
            "{'creator': 0, 'manager': 1, 'performer': 2, 'politics': 3, 'professional': 4, 'religious': 5, 'science': 6, 'sports': 7}\n"
          ],
          "name": "stdout"
        }
      ]
    },
    {
      "cell_type": "code",
      "metadata": {
        "id": "wi-5QzkG66vN",
        "colab_type": "code",
        "colab": {}
      },
      "source": [
        "import numpy as np\n",
        "X_final=X\n",
        "y_final=y['occ'].to_numpy()"
      ],
      "execution_count": 452,
      "outputs": []
    },
    {
      "cell_type": "code",
      "metadata": {
        "id": "pNwAoTSb7BMJ",
        "colab_type": "code",
        "colab": {}
      },
      "source": [
        "from numpy import *\n",
        "where_are_NaNs = isnan(X_final)\n",
        "X_final[where_are_NaNs] = 0"
      ],
      "execution_count": 453,
      "outputs": []
    },
    {
      "cell_type": "code",
      "metadata": {
        "id": "2wFt_fg27Fhj",
        "colab_type": "code",
        "colab": {}
      },
      "source": [
        "from sklearn.model_selection import train_test_split\n",
        "X_train,X_test,y_train,y_test=train_test_split(X_final,y_final,random_state=40,test_size=.2)"
      ],
      "execution_count": 454,
      "outputs": []
    },
    {
      "cell_type": "code",
      "metadata": {
        "id": "ZtrwZUjF7KY4",
        "colab_type": "code",
        "colab": {}
      },
      "source": [
        "from sklearn.linear_model import LogisticRegression\n",
        "\n",
        "from sklearn.metrics import classification_report, confusion_matrix\n",
        "clf = LogisticRegression(solver = 'newton-cg', multi_class='multinomial')\n"
      ],
      "execution_count": 455,
      "outputs": []
    },
    {
      "cell_type": "code",
      "metadata": {
        "id": "LoOH9iEo7Txm",
        "colab_type": "code",
        "colab": {
          "base_uri": "https://localhost:8080/",
          "height": 101
        },
        "outputId": "747fc372-f9cd-4ba4-9f77-dd6ea8424c18"
      },
      "source": [
        "clf.fit(X_train, y_train)"
      ],
      "execution_count": 456,
      "outputs": [
        {
          "output_type": "execute_result",
          "data": {
            "text/plain": [
              "LogisticRegression(C=1.0, class_weight=None, dual=False, fit_intercept=True,\n",
              "                   intercept_scaling=1, l1_ratio=None, max_iter=100,\n",
              "                   multi_class='multinomial', n_jobs=None, penalty='l2',\n",
              "                   random_state=None, solver='newton-cg', tol=0.0001, verbose=0,\n",
              "                   warm_start=False)"
            ]
          },
          "metadata": {
            "tags": []
          },
          "execution_count": 456
        }
      ]
    },
    {
      "cell_type": "code",
      "metadata": {
        "id": "FaRFnvGP7Z-8",
        "colab_type": "code",
        "colab": {}
      },
      "source": [
        "y_pred = clf.predict(X_test)"
      ],
      "execution_count": 457,
      "outputs": []
    },
    {
      "cell_type": "code",
      "metadata": {
        "id": "1T2Sw4Tj7em-",
        "colab_type": "code",
        "colab": {
          "base_uri": "https://localhost:8080/",
          "height": 322
        },
        "outputId": "a8eda003-abd8-4171-da1a-b59e42967a32"
      },
      "source": [
        "print(classification_report(y_test, y_pred))"
      ],
      "execution_count": 458,
      "outputs": [
        {
          "output_type": "stream",
          "text": [
            "              precision    recall  f1-score   support\n",
            "\n",
            "     creator       0.50      0.39      0.44       469\n",
            "     manager       0.67      0.03      0.05        75\n",
            "   performer       0.66      0.83      0.73       818\n",
            "    politics       0.67      0.74      0.70       234\n",
            "professional       0.00      0.00      0.00        52\n",
            "   religious       0.00      0.00      0.00         2\n",
            "     science       0.33      0.04      0.08        67\n",
            "      sports       0.85      0.88      0.86      1183\n",
            "\n",
            "    accuracy                           0.72      2900\n",
            "   macro avg       0.46      0.36      0.36      2900\n",
            "weighted avg       0.69      0.72      0.69      2900\n",
            "\n"
          ],
          "name": "stdout"
        },
        {
          "output_type": "stream",
          "text": [
            "/usr/local/lib/python3.6/dist-packages/sklearn/metrics/_classification.py:1272: UndefinedMetricWarning: Precision and F-score are ill-defined and being set to 0.0 in labels with no predicted samples. Use `zero_division` parameter to control this behavior.\n",
            "  _warn_prf(average, modifier, msg_start, len(result))\n"
          ],
          "name": "stderr"
        }
      ]
    },
    {
      "cell_type": "code",
      "metadata": {
        "id": "p8Sn6HY77h6y",
        "colab_type": "code",
        "colab": {
          "base_uri": "https://localhost:8080/",
          "height": 84
        },
        "outputId": "29538729-a57f-46ed-cef9-a7d7eedbdedd"
      },
      "source": [
        "classifier = SVC(kernel = 'rbf',gamma=0.7)\n",
        "classifier.fit(X_train, y_train)"
      ],
      "execution_count": 459,
      "outputs": [
        {
          "output_type": "execute_result",
          "data": {
            "text/plain": [
              "SVC(C=1.0, break_ties=False, cache_size=200, class_weight=None, coef0=0.0,\n",
              "    decision_function_shape='ovr', degree=3, gamma=0.7, kernel='rbf',\n",
              "    max_iter=-1, probability=False, random_state=None, shrinking=True,\n",
              "    tol=0.001, verbose=False)"
            ]
          },
          "metadata": {
            "tags": []
          },
          "execution_count": 459
        }
      ]
    },
    {
      "cell_type": "code",
      "metadata": {
        "id": "wxltUgc27uny",
        "colab_type": "code",
        "colab": {}
      },
      "source": [
        "y_pred = clf.predict(X_test)"
      ],
      "execution_count": 460,
      "outputs": []
    },
    {
      "cell_type": "code",
      "metadata": {
        "id": "8MewYMDU7yNO",
        "colab_type": "code",
        "colab": {
          "base_uri": "https://localhost:8080/",
          "height": 322
        },
        "outputId": "a26623bc-f1cd-4d35-ea44-1d1180ff26e2"
      },
      "source": [
        "print(classification_report(y_test, y_pred))"
      ],
      "execution_count": 461,
      "outputs": [
        {
          "output_type": "stream",
          "text": [
            "              precision    recall  f1-score   support\n",
            "\n",
            "     creator       0.50      0.39      0.44       469\n",
            "     manager       0.67      0.03      0.05        75\n",
            "   performer       0.66      0.83      0.73       818\n",
            "    politics       0.67      0.74      0.70       234\n",
            "professional       0.00      0.00      0.00        52\n",
            "   religious       0.00      0.00      0.00         2\n",
            "     science       0.33      0.04      0.08        67\n",
            "      sports       0.85      0.88      0.86      1183\n",
            "\n",
            "    accuracy                           0.72      2900\n",
            "   macro avg       0.46      0.36      0.36      2900\n",
            "weighted avg       0.69      0.72      0.69      2900\n",
            "\n"
          ],
          "name": "stdout"
        },
        {
          "output_type": "stream",
          "text": [
            "/usr/local/lib/python3.6/dist-packages/sklearn/metrics/_classification.py:1272: UndefinedMetricWarning: Precision and F-score are ill-defined and being set to 0.0 in labels with no predicted samples. Use `zero_division` parameter to control this behavior.\n",
            "  _warn_prf(average, modifier, msg_start, len(result))\n"
          ],
          "name": "stderr"
        }
      ]
    },
    {
      "cell_type": "code",
      "metadata": {
        "id": "YJxgQxGR7zuh",
        "colab_type": "code",
        "colab": {
          "base_uri": "https://localhost:8080/",
          "height": 84
        },
        "outputId": "14b95778-4834-4c58-ed70-ef0f224f2dc5"
      },
      "source": [
        "classifier = SVC(kernel = 'poly', random_state = 0)\n",
        "classifier.fit(X_train, y_train)"
      ],
      "execution_count": 462,
      "outputs": [
        {
          "output_type": "execute_result",
          "data": {
            "text/plain": [
              "SVC(C=1.0, break_ties=False, cache_size=200, class_weight=None, coef0=0.0,\n",
              "    decision_function_shape='ovr', degree=3, gamma='scale', kernel='poly',\n",
              "    max_iter=-1, probability=False, random_state=0, shrinking=True, tol=0.001,\n",
              "    verbose=False)"
            ]
          },
          "metadata": {
            "tags": []
          },
          "execution_count": 462
        }
      ]
    },
    {
      "cell_type": "code",
      "metadata": {
        "id": "7su3jHHI77kG",
        "colab_type": "code",
        "colab": {}
      },
      "source": [
        "y_pred = clf.predict(X_test)"
      ],
      "execution_count": 463,
      "outputs": []
    },
    {
      "cell_type": "code",
      "metadata": {
        "id": "6ueEnLkJ7-Dh",
        "colab_type": "code",
        "colab": {
          "base_uri": "https://localhost:8080/",
          "height": 322
        },
        "outputId": "bb3c8465-31e3-44c0-f20e-14262c52cac6"
      },
      "source": [
        "print(classification_report(y_test, y_pred))"
      ],
      "execution_count": 464,
      "outputs": [
        {
          "output_type": "stream",
          "text": [
            "              precision    recall  f1-score   support\n",
            "\n",
            "     creator       0.50      0.39      0.44       469\n",
            "     manager       0.67      0.03      0.05        75\n",
            "   performer       0.66      0.83      0.73       818\n",
            "    politics       0.67      0.74      0.70       234\n",
            "professional       0.00      0.00      0.00        52\n",
            "   religious       0.00      0.00      0.00         2\n",
            "     science       0.33      0.04      0.08        67\n",
            "      sports       0.85      0.88      0.86      1183\n",
            "\n",
            "    accuracy                           0.72      2900\n",
            "   macro avg       0.46      0.36      0.36      2900\n",
            "weighted avg       0.69      0.72      0.69      2900\n",
            "\n"
          ],
          "name": "stdout"
        },
        {
          "output_type": "stream",
          "text": [
            "/usr/local/lib/python3.6/dist-packages/sklearn/metrics/_classification.py:1272: UndefinedMetricWarning: Precision and F-score are ill-defined and being set to 0.0 in labels with no predicted samples. Use `zero_division` parameter to control this behavior.\n",
            "  _warn_prf(average, modifier, msg_start, len(result))\n"
          ],
          "name": "stderr"
        }
      ]
    },
    {
      "cell_type": "code",
      "metadata": {
        "id": "yxhEiwAy7_jU",
        "colab_type": "code",
        "colab": {
          "base_uri": "https://localhost:8080/",
          "height": 84
        },
        "outputId": "626b22bf-0123-40d6-acaf-f4f03aba5cd8"
      },
      "source": [
        "classifier = SVC(kernel = 'linear', C=0.5,random_state = 0)\n",
        "classifier.fit(X_train, y_train)"
      ],
      "execution_count": 465,
      "outputs": [
        {
          "output_type": "execute_result",
          "data": {
            "text/plain": [
              "SVC(C=0.5, break_ties=False, cache_size=200, class_weight=None, coef0=0.0,\n",
              "    decision_function_shape='ovr', degree=3, gamma='scale', kernel='linear',\n",
              "    max_iter=-1, probability=False, random_state=0, shrinking=True, tol=0.001,\n",
              "    verbose=False)"
            ]
          },
          "metadata": {
            "tags": []
          },
          "execution_count": 465
        }
      ]
    },
    {
      "cell_type": "code",
      "metadata": {
        "id": "Df0eV2XeDHIQ",
        "colab_type": "code",
        "colab": {}
      },
      "source": [
        "y_pred = clf.predict(X_test)"
      ],
      "execution_count": 466,
      "outputs": []
    },
    {
      "cell_type": "code",
      "metadata": {
        "id": "IY2-uwE1DM2k",
        "colab_type": "code",
        "colab": {
          "base_uri": "https://localhost:8080/",
          "height": 322
        },
        "outputId": "c2e78f3a-03c3-4ea5-ae66-5230a219f5d3"
      },
      "source": [
        "print(classification_report(y_test, y_pred))"
      ],
      "execution_count": 467,
      "outputs": [
        {
          "output_type": "stream",
          "text": [
            "              precision    recall  f1-score   support\n",
            "\n",
            "     creator       0.50      0.39      0.44       469\n",
            "     manager       0.67      0.03      0.05        75\n",
            "   performer       0.66      0.83      0.73       818\n",
            "    politics       0.67      0.74      0.70       234\n",
            "professional       0.00      0.00      0.00        52\n",
            "   religious       0.00      0.00      0.00         2\n",
            "     science       0.33      0.04      0.08        67\n",
            "      sports       0.85      0.88      0.86      1183\n",
            "\n",
            "    accuracy                           0.72      2900\n",
            "   macro avg       0.46      0.36      0.36      2900\n",
            "weighted avg       0.69      0.72      0.69      2900\n",
            "\n"
          ],
          "name": "stdout"
        },
        {
          "output_type": "stream",
          "text": [
            "/usr/local/lib/python3.6/dist-packages/sklearn/metrics/_classification.py:1272: UndefinedMetricWarning: Precision and F-score are ill-defined and being set to 0.0 in labels with no predicted samples. Use `zero_division` parameter to control this behavior.\n",
            "  _warn_prf(average, modifier, msg_start, len(result))\n"
          ],
          "name": "stderr"
        }
      ]
    },
    {
      "cell_type": "code",
      "metadata": {
        "id": "YTKP_nfqLXZA",
        "colab_type": "code",
        "colab": {
          "base_uri": "https://localhost:8080/",
          "height": 34
        },
        "outputId": "954adda9-390c-4b30-ea4f-cc13d70787f9"
      },
      "source": [
        "from sklearn.metrics import f1_score, accuracy_score\n",
        "accuracy_score(y_test,y_pred)"
      ],
      "execution_count": 468,
      "outputs": [
        {
          "output_type": "execute_result",
          "data": {
            "text/plain": [
              "0.7186206896551725"
            ]
          },
          "metadata": {
            "tags": []
          },
          "execution_count": 468
        }
      ]
    },
    {
      "cell_type": "code",
      "metadata": {
        "id": "ysOA30AqPIlZ",
        "colab_type": "code",
        "colab": {}
      },
      "source": [
        "y_pred = clf.predict(X_train)"
      ],
      "execution_count": 469,
      "outputs": []
    },
    {
      "cell_type": "markdown",
      "metadata": {
        "id": "BbUL_oecbN9m",
        "colab_type": "text"
      },
      "source": [
        "Train data accuracy"
      ]
    },
    {
      "cell_type": "code",
      "metadata": {
        "id": "ZQLLvDNwPPax",
        "colab_type": "code",
        "colab": {
          "base_uri": "https://localhost:8080/",
          "height": 322
        },
        "outputId": "c5e85c0a-7192-4221-bb47-8a8c7750b6f8"
      },
      "source": [
        "print(classification_report(y_train, y_pred))"
      ],
      "execution_count": 470,
      "outputs": [
        {
          "output_type": "stream",
          "text": [
            "/usr/local/lib/python3.6/dist-packages/sklearn/metrics/_classification.py:1272: UndefinedMetricWarning: Precision and F-score are ill-defined and being set to 0.0 in labels with no predicted samples. Use `zero_division` parameter to control this behavior.\n",
            "  _warn_prf(average, modifier, msg_start, len(result))\n"
          ],
          "name": "stderr"
        },
        {
          "output_type": "stream",
          "text": [
            "              precision    recall  f1-score   support\n",
            "\n",
            "     creator       0.51      0.38      0.44      1867\n",
            "     manager       0.83      0.02      0.04       251\n",
            "   performer       0.68      0.83      0.75      3461\n",
            "    politics       0.67      0.77      0.72       940\n",
            "professional       0.00      0.00      0.00       186\n",
            "   religious       0.00      0.00      0.00        17\n",
            "     science       0.57      0.05      0.09       256\n",
            "      sports       0.84      0.89      0.87      4621\n",
            "\n",
            "    accuracy                           0.73     11599\n",
            "   macro avg       0.51      0.37      0.36     11599\n",
            "weighted avg       0.71      0.73      0.70     11599\n",
            "\n"
          ],
          "name": "stdout"
        }
      ]
    },
    {
      "cell_type": "markdown",
      "metadata": {
        "id": "eWeQkpqzKQbI",
        "colab_type": "text"
      },
      "source": [
        "So we can see that all classifier produce same accuracy of around 72% and train accuracy of 73%"
      ]
    },
    {
      "cell_type": "markdown",
      "metadata": {
        "id": "vwPtVL_nXhn4",
        "colab_type": "text"
      },
      "source": [
        "**Age classifiaction**"
      ]
    },
    {
      "cell_type": "code",
      "metadata": {
        "id": "A7OrITIGDOwd",
        "colab_type": "code",
        "colab": {}
      },
      "source": [
        ""
      ],
      "execution_count": null,
      "outputs": []
    }
  ]
}